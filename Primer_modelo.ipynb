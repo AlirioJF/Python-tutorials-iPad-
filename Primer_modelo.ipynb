{
  "nbformat": 4,
  "nbformat_minor": 0,
  "metadata": {
    "colab": {
      "provenance": [],
      "authorship_tag": "ABX9TyOX+7rpWo3Dbljh1qHFQ+n5",
      "include_colab_link": true
    },
    "kernelspec": {
      "name": "python3",
      "display_name": "Python 3"
    },
    "language_info": {
      "name": "python"
    }
  },
  "cells": [
    {
      "cell_type": "markdown",
      "metadata": {
        "id": "view-in-github",
        "colab_type": "text"
      },
      "source": [
        "<a href=\"https://colab.research.google.com/github/AlirioJF/Python-tutorials-iPad-/blob/main/Primer_modelo.ipynb\" target=\"_parent\"><img src=\"https://colab.research.google.com/assets/colab-badge.svg\" alt=\"Open In Colab\"/></a>"
      ]
    },
    {
      "cell_type": "code",
      "execution_count": 87,
      "metadata": {
        "id": "wGmaHsuoNOKR",
        "colab": {
          "base_uri": "https://localhost:8080/",
          "height": 252
        },
        "outputId": "24dd56a0-3d54-4916-801c-702c9140e5ee"
      },
      "outputs": [
        {
          "output_type": "error",
          "ename": "UnicodeDecodeError",
          "evalue": "'utf-8' codec can't decode byte 0xff in position 0: invalid start byte",
          "traceback": [
            "\u001b[0;31m---------------------------------------------------------------------------\u001b[0m",
            "\u001b[0;31mUnicodeDecodeError\u001b[0m                        Traceback (most recent call last)",
            "\u001b[0;32m<ipython-input-87-3ee680974d67>\u001b[0m in \u001b[0;36m<cell line: 2>\u001b[0;34m()\u001b[0m\n\u001b[1;32m      1\u001b[0m \u001b[0;32mimport\u001b[0m \u001b[0mpandas\u001b[0m \u001b[0;32mas\u001b[0m \u001b[0mpd\u001b[0m\u001b[0;34m\u001b[0m\u001b[0;34m\u001b[0m\u001b[0m\n\u001b[0;32m----> 2\u001b[0;31m \u001b[0mdatos\u001b[0m \u001b[0;34m=\u001b[0m \u001b[0mpd\u001b[0m\u001b[0;34m.\u001b[0m\u001b[0mread_csv\u001b[0m \u001b[0;34m(\u001b[0m\u001b[0;34m\"Celsius.csv\"\u001b[0m\u001b[0;34m)\u001b[0m\u001b[0;34m\u001b[0m\u001b[0;34m\u001b[0m\u001b[0m\n\u001b[0m\u001b[1;32m      3\u001b[0m \u001b[0;31m#datosf = pd.read_csv (\"Celsiusf.csv\")\u001b[0m\u001b[0;34m\u001b[0m\u001b[0;34m\u001b[0m\u001b[0m\n\u001b[1;32m      4\u001b[0m \u001b[0;34m\u001b[0m\u001b[0m\n",
            "\u001b[0;32m/usr/local/lib/python3.10/dist-packages/pandas/util/_decorators.py\u001b[0m in \u001b[0;36mwrapper\u001b[0;34m(*args, **kwargs)\u001b[0m\n\u001b[1;32m    209\u001b[0m                 \u001b[0;32melse\u001b[0m\u001b[0;34m:\u001b[0m\u001b[0;34m\u001b[0m\u001b[0;34m\u001b[0m\u001b[0m\n\u001b[1;32m    210\u001b[0m                     \u001b[0mkwargs\u001b[0m\u001b[0;34m[\u001b[0m\u001b[0mnew_arg_name\u001b[0m\u001b[0;34m]\u001b[0m \u001b[0;34m=\u001b[0m \u001b[0mnew_arg_value\u001b[0m\u001b[0;34m\u001b[0m\u001b[0;34m\u001b[0m\u001b[0m\n\u001b[0;32m--> 211\u001b[0;31m             \u001b[0;32mreturn\u001b[0m \u001b[0mfunc\u001b[0m\u001b[0;34m(\u001b[0m\u001b[0;34m*\u001b[0m\u001b[0margs\u001b[0m\u001b[0;34m,\u001b[0m \u001b[0;34m**\u001b[0m\u001b[0mkwargs\u001b[0m\u001b[0;34m)\u001b[0m\u001b[0;34m\u001b[0m\u001b[0;34m\u001b[0m\u001b[0m\n\u001b[0m\u001b[1;32m    212\u001b[0m \u001b[0;34m\u001b[0m\u001b[0m\n\u001b[1;32m    213\u001b[0m         \u001b[0;32mreturn\u001b[0m \u001b[0mcast\u001b[0m\u001b[0;34m(\u001b[0m\u001b[0mF\u001b[0m\u001b[0;34m,\u001b[0m \u001b[0mwrapper\u001b[0m\u001b[0;34m)\u001b[0m\u001b[0;34m\u001b[0m\u001b[0;34m\u001b[0m\u001b[0m\n",
            "\u001b[0;32m/usr/local/lib/python3.10/dist-packages/pandas/util/_decorators.py\u001b[0m in \u001b[0;36mwrapper\u001b[0;34m(*args, **kwargs)\u001b[0m\n\u001b[1;32m    329\u001b[0m                     \u001b[0mstacklevel\u001b[0m\u001b[0;34m=\u001b[0m\u001b[0mfind_stack_level\u001b[0m\u001b[0;34m(\u001b[0m\u001b[0;34m)\u001b[0m\u001b[0;34m,\u001b[0m\u001b[0;34m\u001b[0m\u001b[0;34m\u001b[0m\u001b[0m\n\u001b[1;32m    330\u001b[0m                 )\n\u001b[0;32m--> 331\u001b[0;31m             \u001b[0;32mreturn\u001b[0m \u001b[0mfunc\u001b[0m\u001b[0;34m(\u001b[0m\u001b[0;34m*\u001b[0m\u001b[0margs\u001b[0m\u001b[0;34m,\u001b[0m \u001b[0;34m**\u001b[0m\u001b[0mkwargs\u001b[0m\u001b[0;34m)\u001b[0m\u001b[0;34m\u001b[0m\u001b[0;34m\u001b[0m\u001b[0m\n\u001b[0m\u001b[1;32m    332\u001b[0m \u001b[0;34m\u001b[0m\u001b[0m\n\u001b[1;32m    333\u001b[0m         \u001b[0;31m# error: \"Callable[[VarArg(Any), KwArg(Any)], Any]\" has no\u001b[0m\u001b[0;34m\u001b[0m\u001b[0;34m\u001b[0m\u001b[0m\n",
            "\u001b[0;32m/usr/local/lib/python3.10/dist-packages/pandas/io/parsers/readers.py\u001b[0m in \u001b[0;36mread_csv\u001b[0;34m(filepath_or_buffer, sep, delimiter, header, names, index_col, usecols, squeeze, prefix, mangle_dupe_cols, dtype, engine, converters, true_values, false_values, skipinitialspace, skiprows, skipfooter, nrows, na_values, keep_default_na, na_filter, verbose, skip_blank_lines, parse_dates, infer_datetime_format, keep_date_col, date_parser, dayfirst, cache_dates, iterator, chunksize, compression, thousands, decimal, lineterminator, quotechar, quoting, doublequote, escapechar, comment, encoding, encoding_errors, dialect, error_bad_lines, warn_bad_lines, on_bad_lines, delim_whitespace, low_memory, memory_map, float_precision, storage_options)\u001b[0m\n\u001b[1;32m    948\u001b[0m     \u001b[0mkwds\u001b[0m\u001b[0;34m.\u001b[0m\u001b[0mupdate\u001b[0m\u001b[0;34m(\u001b[0m\u001b[0mkwds_defaults\u001b[0m\u001b[0;34m)\u001b[0m\u001b[0;34m\u001b[0m\u001b[0;34m\u001b[0m\u001b[0m\n\u001b[1;32m    949\u001b[0m \u001b[0;34m\u001b[0m\u001b[0m\n\u001b[0;32m--> 950\u001b[0;31m     \u001b[0;32mreturn\u001b[0m \u001b[0m_read\u001b[0m\u001b[0;34m(\u001b[0m\u001b[0mfilepath_or_buffer\u001b[0m\u001b[0;34m,\u001b[0m \u001b[0mkwds\u001b[0m\u001b[0;34m)\u001b[0m\u001b[0;34m\u001b[0m\u001b[0;34m\u001b[0m\u001b[0m\n\u001b[0m\u001b[1;32m    951\u001b[0m \u001b[0;34m\u001b[0m\u001b[0m\n\u001b[1;32m    952\u001b[0m \u001b[0;34m\u001b[0m\u001b[0m\n",
            "\u001b[0;32m/usr/local/lib/python3.10/dist-packages/pandas/io/parsers/readers.py\u001b[0m in \u001b[0;36m_read\u001b[0;34m(filepath_or_buffer, kwds)\u001b[0m\n\u001b[1;32m    603\u001b[0m \u001b[0;34m\u001b[0m\u001b[0m\n\u001b[1;32m    604\u001b[0m     \u001b[0;31m# Create the parser.\u001b[0m\u001b[0;34m\u001b[0m\u001b[0;34m\u001b[0m\u001b[0m\n\u001b[0;32m--> 605\u001b[0;31m     \u001b[0mparser\u001b[0m \u001b[0;34m=\u001b[0m \u001b[0mTextFileReader\u001b[0m\u001b[0;34m(\u001b[0m\u001b[0mfilepath_or_buffer\u001b[0m\u001b[0;34m,\u001b[0m \u001b[0;34m**\u001b[0m\u001b[0mkwds\u001b[0m\u001b[0;34m)\u001b[0m\u001b[0;34m\u001b[0m\u001b[0;34m\u001b[0m\u001b[0m\n\u001b[0m\u001b[1;32m    606\u001b[0m \u001b[0;34m\u001b[0m\u001b[0m\n\u001b[1;32m    607\u001b[0m     \u001b[0;32mif\u001b[0m \u001b[0mchunksize\u001b[0m \u001b[0;32mor\u001b[0m \u001b[0miterator\u001b[0m\u001b[0;34m:\u001b[0m\u001b[0;34m\u001b[0m\u001b[0;34m\u001b[0m\u001b[0m\n",
            "\u001b[0;32m/usr/local/lib/python3.10/dist-packages/pandas/io/parsers/readers.py\u001b[0m in \u001b[0;36m__init__\u001b[0;34m(self, f, engine, **kwds)\u001b[0m\n\u001b[1;32m   1440\u001b[0m \u001b[0;34m\u001b[0m\u001b[0m\n\u001b[1;32m   1441\u001b[0m         \u001b[0mself\u001b[0m\u001b[0;34m.\u001b[0m\u001b[0mhandles\u001b[0m\u001b[0;34m:\u001b[0m \u001b[0mIOHandles\u001b[0m \u001b[0;34m|\u001b[0m \u001b[0;32mNone\u001b[0m \u001b[0;34m=\u001b[0m \u001b[0;32mNone\u001b[0m\u001b[0;34m\u001b[0m\u001b[0;34m\u001b[0m\u001b[0m\n\u001b[0;32m-> 1442\u001b[0;31m         \u001b[0mself\u001b[0m\u001b[0;34m.\u001b[0m\u001b[0m_engine\u001b[0m \u001b[0;34m=\u001b[0m \u001b[0mself\u001b[0m\u001b[0;34m.\u001b[0m\u001b[0m_make_engine\u001b[0m\u001b[0;34m(\u001b[0m\u001b[0mf\u001b[0m\u001b[0;34m,\u001b[0m \u001b[0mself\u001b[0m\u001b[0;34m.\u001b[0m\u001b[0mengine\u001b[0m\u001b[0;34m)\u001b[0m\u001b[0;34m\u001b[0m\u001b[0;34m\u001b[0m\u001b[0m\n\u001b[0m\u001b[1;32m   1443\u001b[0m \u001b[0;34m\u001b[0m\u001b[0m\n\u001b[1;32m   1444\u001b[0m     \u001b[0;32mdef\u001b[0m \u001b[0mclose\u001b[0m\u001b[0;34m(\u001b[0m\u001b[0mself\u001b[0m\u001b[0;34m)\u001b[0m \u001b[0;34m->\u001b[0m \u001b[0;32mNone\u001b[0m\u001b[0;34m:\u001b[0m\u001b[0;34m\u001b[0m\u001b[0;34m\u001b[0m\u001b[0m\n",
            "\u001b[0;32m/usr/local/lib/python3.10/dist-packages/pandas/io/parsers/readers.py\u001b[0m in \u001b[0;36m_make_engine\u001b[0;34m(self, f, engine)\u001b[0m\n\u001b[1;32m   1751\u001b[0m \u001b[0;34m\u001b[0m\u001b[0m\n\u001b[1;32m   1752\u001b[0m         \u001b[0;32mtry\u001b[0m\u001b[0;34m:\u001b[0m\u001b[0;34m\u001b[0m\u001b[0;34m\u001b[0m\u001b[0m\n\u001b[0;32m-> 1753\u001b[0;31m             \u001b[0;32mreturn\u001b[0m \u001b[0mmapping\u001b[0m\u001b[0;34m[\u001b[0m\u001b[0mengine\u001b[0m\u001b[0;34m]\u001b[0m\u001b[0;34m(\u001b[0m\u001b[0mf\u001b[0m\u001b[0;34m,\u001b[0m \u001b[0;34m**\u001b[0m\u001b[0mself\u001b[0m\u001b[0;34m.\u001b[0m\u001b[0moptions\u001b[0m\u001b[0;34m)\u001b[0m\u001b[0;34m\u001b[0m\u001b[0;34m\u001b[0m\u001b[0m\n\u001b[0m\u001b[1;32m   1754\u001b[0m         \u001b[0;32mexcept\u001b[0m \u001b[0mException\u001b[0m\u001b[0;34m:\u001b[0m\u001b[0;34m\u001b[0m\u001b[0;34m\u001b[0m\u001b[0m\n\u001b[1;32m   1755\u001b[0m             \u001b[0;32mif\u001b[0m \u001b[0mself\u001b[0m\u001b[0;34m.\u001b[0m\u001b[0mhandles\u001b[0m \u001b[0;32mis\u001b[0m \u001b[0;32mnot\u001b[0m \u001b[0;32mNone\u001b[0m\u001b[0;34m:\u001b[0m\u001b[0;34m\u001b[0m\u001b[0;34m\u001b[0m\u001b[0m\n",
            "\u001b[0;32m/usr/local/lib/python3.10/dist-packages/pandas/io/parsers/c_parser_wrapper.py\u001b[0m in \u001b[0;36m__init__\u001b[0;34m(self, src, **kwds)\u001b[0m\n\u001b[1;32m     77\u001b[0m \u001b[0;34m\u001b[0m\u001b[0m\n\u001b[1;32m     78\u001b[0m         \u001b[0mkwds\u001b[0m\u001b[0;34m[\u001b[0m\u001b[0;34m\"dtype\"\u001b[0m\u001b[0;34m]\u001b[0m \u001b[0;34m=\u001b[0m \u001b[0mensure_dtype_objs\u001b[0m\u001b[0;34m(\u001b[0m\u001b[0mkwds\u001b[0m\u001b[0;34m.\u001b[0m\u001b[0mget\u001b[0m\u001b[0;34m(\u001b[0m\u001b[0;34m\"dtype\"\u001b[0m\u001b[0;34m,\u001b[0m \u001b[0;32mNone\u001b[0m\u001b[0;34m)\u001b[0m\u001b[0;34m)\u001b[0m\u001b[0;34m\u001b[0m\u001b[0;34m\u001b[0m\u001b[0m\n\u001b[0;32m---> 79\u001b[0;31m         \u001b[0mself\u001b[0m\u001b[0;34m.\u001b[0m\u001b[0m_reader\u001b[0m \u001b[0;34m=\u001b[0m \u001b[0mparsers\u001b[0m\u001b[0;34m.\u001b[0m\u001b[0mTextReader\u001b[0m\u001b[0;34m(\u001b[0m\u001b[0msrc\u001b[0m\u001b[0;34m,\u001b[0m \u001b[0;34m**\u001b[0m\u001b[0mkwds\u001b[0m\u001b[0;34m)\u001b[0m\u001b[0;34m\u001b[0m\u001b[0;34m\u001b[0m\u001b[0m\n\u001b[0m\u001b[1;32m     80\u001b[0m \u001b[0;34m\u001b[0m\u001b[0m\n\u001b[1;32m     81\u001b[0m         \u001b[0mself\u001b[0m\u001b[0;34m.\u001b[0m\u001b[0munnamed_cols\u001b[0m \u001b[0;34m=\u001b[0m \u001b[0mself\u001b[0m\u001b[0;34m.\u001b[0m\u001b[0m_reader\u001b[0m\u001b[0;34m.\u001b[0m\u001b[0munnamed_cols\u001b[0m\u001b[0;34m\u001b[0m\u001b[0;34m\u001b[0m\u001b[0m\n",
            "\u001b[0;32m/usr/local/lib/python3.10/dist-packages/pandas/_libs/parsers.pyx\u001b[0m in \u001b[0;36mpandas._libs.parsers.TextReader.__cinit__\u001b[0;34m()\u001b[0m\n",
            "\u001b[0;32m/usr/local/lib/python3.10/dist-packages/pandas/_libs/parsers.pyx\u001b[0m in \u001b[0;36mpandas._libs.parsers.TextReader._get_header\u001b[0;34m()\u001b[0m\n",
            "\u001b[0;32m/usr/local/lib/python3.10/dist-packages/pandas/_libs/parsers.pyx\u001b[0m in \u001b[0;36mpandas._libs.parsers.TextReader._tokenize_rows\u001b[0;34m()\u001b[0m\n",
            "\u001b[0;32m/usr/local/lib/python3.10/dist-packages/pandas/_libs/parsers.pyx\u001b[0m in \u001b[0;36mpandas._libs.parsers.raise_parser_error\u001b[0;34m()\u001b[0m\n",
            "\u001b[0;31mUnicodeDecodeError\u001b[0m: 'utf-8' codec can't decode byte 0xff in position 0: invalid start byte"
          ]
        }
      ],
      "source": [
        "import pandas as pd\n",
        "datos = pd.read_csv (\"Celsius.csv\")\n",
        "#datosf = pd.read_csv (\"Celsiusf.csv\")\n",
        "\n"
      ]
    },
    {
      "cell_type": "code",
      "source": [
        "datos.info()"
      ],
      "metadata": {
        "colab": {
          "base_uri": "https://localhost:8080/",
          "height": 141
        },
        "id": "M-fATPofWMRk",
        "outputId": "6263861b-9983-47ab-d9f8-b61c3897f9c1"
      },
      "execution_count": null,
      "outputs": [
        {
          "output_type": "error",
          "ename": "NameError",
          "evalue": "name 'datos' is not defined",
          "traceback": [
            "\u001b[0;31m---------------------------------------------------------------------------\u001b[0m",
            "\u001b[0;31mNameError\u001b[0m                                 Traceback (most recent call last)",
            "\u001b[0;32m<ipython-input-28-62d6781f0e51>\u001b[0m in \u001b[0;36m<cell line: 1>\u001b[0;34m()\u001b[0m\n\u001b[0;32m----> 1\u001b[0;31m \u001b[0mdatos\u001b[0m\u001b[0;34m.\u001b[0m\u001b[0minfo\u001b[0m\u001b[0;34m(\u001b[0m\u001b[0;34m)\u001b[0m\u001b[0;34m\u001b[0m\u001b[0;34m\u001b[0m\u001b[0m\n\u001b[0m",
            "\u001b[0;31mNameError\u001b[0m: name 'datos' is not defined"
          ]
        }
      ]
    },
    {
      "cell_type": "code",
      "source": [
        "datos.head()\n"
      ],
      "metadata": {
        "colab": {
          "base_uri": "https://localhost:8080/",
          "height": 244
        },
        "id": "hg1lZ2c4iXvQ",
        "outputId": "5cdfdd17-561a-4c98-dfd7-31128a9b692c"
      },
      "execution_count": null,
      "outputs": [
        {
          "output_type": "execute_result",
          "data": {
            "text/plain": [
              "  Celsius Fahrenheit\n",
              "0      38      100.4\n",
              "1      22       71.6\n",
              "2      15         59\n",
              "3       8       46.4\n",
              "4       0         32"
            ],
            "text/html": [
              "\n",
              "  <div id=\"df-6f6f5184-a038-4a84-abaa-f7cca3f2d1cd\" class=\"colab-df-container\">\n",
              "    <div>\n",
              "<style scoped>\n",
              "    .dataframe tbody tr th:only-of-type {\n",
              "        vertical-align: middle;\n",
              "    }\n",
              "\n",
              "    .dataframe tbody tr th {\n",
              "        vertical-align: top;\n",
              "    }\n",
              "\n",
              "    .dataframe thead th {\n",
              "        text-align: right;\n",
              "    }\n",
              "</style>\n",
              "<table border=\"1\" class=\"dataframe\">\n",
              "  <thead>\n",
              "    <tr style=\"text-align: right;\">\n",
              "      <th></th>\n",
              "      <th>Celsius</th>\n",
              "      <th>Fahrenheit</th>\n",
              "    </tr>\n",
              "  </thead>\n",
              "  <tbody>\n",
              "    <tr>\n",
              "      <th>0</th>\n",
              "      <td>38</td>\n",
              "      <td>100.4</td>\n",
              "    </tr>\n",
              "    <tr>\n",
              "      <th>1</th>\n",
              "      <td>22</td>\n",
              "      <td>71.6</td>\n",
              "    </tr>\n",
              "    <tr>\n",
              "      <th>2</th>\n",
              "      <td>15</td>\n",
              "      <td>59</td>\n",
              "    </tr>\n",
              "    <tr>\n",
              "      <th>3</th>\n",
              "      <td>8</td>\n",
              "      <td>46.4</td>\n",
              "    </tr>\n",
              "    <tr>\n",
              "      <th>4</th>\n",
              "      <td>0</td>\n",
              "      <td>32</td>\n",
              "    </tr>\n",
              "  </tbody>\n",
              "</table>\n",
              "</div>\n",
              "    <div class=\"colab-df-buttons\">\n",
              "\n",
              "  <div class=\"colab-df-container\">\n",
              "    <button class=\"colab-df-convert\" onclick=\"convertToInteractive('df-6f6f5184-a038-4a84-abaa-f7cca3f2d1cd')\"\n",
              "            title=\"Convert this dataframe to an interactive table.\"\n",
              "            style=\"display:none;\">\n",
              "\n",
              "  <svg xmlns=\"http://www.w3.org/2000/svg\" height=\"24px\" viewBox=\"0 -960 960 960\">\n",
              "    <path d=\"M120-120v-720h720v720H120Zm60-500h600v-160H180v160Zm220 220h160v-160H400v160Zm0 220h160v-160H400v160ZM180-400h160v-160H180v160Zm440 0h160v-160H620v160ZM180-180h160v-160H180v160Zm440 0h160v-160H620v160Z\"/>\n",
              "  </svg>\n",
              "    </button>\n",
              "\n",
              "  <style>\n",
              "    .colab-df-container {\n",
              "      display:flex;\n",
              "      gap: 12px;\n",
              "    }\n",
              "\n",
              "    .colab-df-convert {\n",
              "      background-color: #E8F0FE;\n",
              "      border: none;\n",
              "      border-radius: 50%;\n",
              "      cursor: pointer;\n",
              "      display: none;\n",
              "      fill: #1967D2;\n",
              "      height: 32px;\n",
              "      padding: 0 0 0 0;\n",
              "      width: 32px;\n",
              "    }\n",
              "\n",
              "    .colab-df-convert:hover {\n",
              "      background-color: #E2EBFA;\n",
              "      box-shadow: 0px 1px 2px rgba(60, 64, 67, 0.3), 0px 1px 3px 1px rgba(60, 64, 67, 0.15);\n",
              "      fill: #174EA6;\n",
              "    }\n",
              "\n",
              "    .colab-df-buttons div {\n",
              "      margin-bottom: 4px;\n",
              "    }\n",
              "\n",
              "    [theme=dark] .colab-df-convert {\n",
              "      background-color: #3B4455;\n",
              "      fill: #D2E3FC;\n",
              "    }\n",
              "\n",
              "    [theme=dark] .colab-df-convert:hover {\n",
              "      background-color: #434B5C;\n",
              "      box-shadow: 0px 1px 3px 1px rgba(0, 0, 0, 0.15);\n",
              "      filter: drop-shadow(0px 1px 2px rgba(0, 0, 0, 0.3));\n",
              "      fill: #FFFFFF;\n",
              "    }\n",
              "  </style>\n",
              "\n",
              "    <script>\n",
              "      const buttonEl =\n",
              "        document.querySelector('#df-6f6f5184-a038-4a84-abaa-f7cca3f2d1cd button.colab-df-convert');\n",
              "      buttonEl.style.display =\n",
              "        google.colab.kernel.accessAllowed ? 'block' : 'none';\n",
              "\n",
              "      async function convertToInteractive(key) {\n",
              "        const element = document.querySelector('#df-6f6f5184-a038-4a84-abaa-f7cca3f2d1cd');\n",
              "        const dataTable =\n",
              "          await google.colab.kernel.invokeFunction('convertToInteractive',\n",
              "                                                    [key], {});\n",
              "        if (!dataTable) return;\n",
              "\n",
              "        const docLinkHtml = 'Like what you see? Visit the ' +\n",
              "          '<a target=\"_blank\" href=https://colab.research.google.com/notebooks/data_table.ipynb>data table notebook</a>'\n",
              "          + ' to learn more about interactive tables.';\n",
              "        element.innerHTML = '';\n",
              "        dataTable['output_type'] = 'display_data';\n",
              "        await google.colab.output.renderOutput(dataTable, element);\n",
              "        const docLink = document.createElement('div');\n",
              "        docLink.innerHTML = docLinkHtml;\n",
              "        element.appendChild(docLink);\n",
              "      }\n",
              "    </script>\n",
              "  </div>\n",
              "\n",
              "\n",
              "<div id=\"df-a4038b5a-891a-4cd2-846b-ffa59c804bef\">\n",
              "  <button class=\"colab-df-quickchart\" onclick=\"quickchart('df-a4038b5a-891a-4cd2-846b-ffa59c804bef')\"\n",
              "            title=\"Suggest charts\"\n",
              "            style=\"display:none;\">\n",
              "\n",
              "<svg xmlns=\"http://www.w3.org/2000/svg\" height=\"24px\"viewBox=\"0 0 24 24\"\n",
              "     width=\"24px\">\n",
              "    <g>\n",
              "        <path d=\"M19 3H5c-1.1 0-2 .9-2 2v14c0 1.1.9 2 2 2h14c1.1 0 2-.9 2-2V5c0-1.1-.9-2-2-2zM9 17H7v-7h2v7zm4 0h-2V7h2v10zm4 0h-2v-4h2v4z\"/>\n",
              "    </g>\n",
              "</svg>\n",
              "  </button>\n",
              "\n",
              "<style>\n",
              "  .colab-df-quickchart {\n",
              "      --bg-color: #E8F0FE;\n",
              "      --fill-color: #1967D2;\n",
              "      --hover-bg-color: #E2EBFA;\n",
              "      --hover-fill-color: #174EA6;\n",
              "      --disabled-fill-color: #AAA;\n",
              "      --disabled-bg-color: #DDD;\n",
              "  }\n",
              "\n",
              "  [theme=dark] .colab-df-quickchart {\n",
              "      --bg-color: #3B4455;\n",
              "      --fill-color: #D2E3FC;\n",
              "      --hover-bg-color: #434B5C;\n",
              "      --hover-fill-color: #FFFFFF;\n",
              "      --disabled-bg-color: #3B4455;\n",
              "      --disabled-fill-color: #666;\n",
              "  }\n",
              "\n",
              "  .colab-df-quickchart {\n",
              "    background-color: var(--bg-color);\n",
              "    border: none;\n",
              "    border-radius: 50%;\n",
              "    cursor: pointer;\n",
              "    display: none;\n",
              "    fill: var(--fill-color);\n",
              "    height: 32px;\n",
              "    padding: 0;\n",
              "    width: 32px;\n",
              "  }\n",
              "\n",
              "  .colab-df-quickchart:hover {\n",
              "    background-color: var(--hover-bg-color);\n",
              "    box-shadow: 0 1px 2px rgba(60, 64, 67, 0.3), 0 1px 3px 1px rgba(60, 64, 67, 0.15);\n",
              "    fill: var(--button-hover-fill-color);\n",
              "  }\n",
              "\n",
              "  .colab-df-quickchart-complete:disabled,\n",
              "  .colab-df-quickchart-complete:disabled:hover {\n",
              "    background-color: var(--disabled-bg-color);\n",
              "    fill: var(--disabled-fill-color);\n",
              "    box-shadow: none;\n",
              "  }\n",
              "\n",
              "  .colab-df-spinner {\n",
              "    border: 2px solid var(--fill-color);\n",
              "    border-color: transparent;\n",
              "    border-bottom-color: var(--fill-color);\n",
              "    animation:\n",
              "      spin 1s steps(1) infinite;\n",
              "  }\n",
              "\n",
              "  @keyframes spin {\n",
              "    0% {\n",
              "      border-color: transparent;\n",
              "      border-bottom-color: var(--fill-color);\n",
              "      border-left-color: var(--fill-color);\n",
              "    }\n",
              "    20% {\n",
              "      border-color: transparent;\n",
              "      border-left-color: var(--fill-color);\n",
              "      border-top-color: var(--fill-color);\n",
              "    }\n",
              "    30% {\n",
              "      border-color: transparent;\n",
              "      border-left-color: var(--fill-color);\n",
              "      border-top-color: var(--fill-color);\n",
              "      border-right-color: var(--fill-color);\n",
              "    }\n",
              "    40% {\n",
              "      border-color: transparent;\n",
              "      border-right-color: var(--fill-color);\n",
              "      border-top-color: var(--fill-color);\n",
              "    }\n",
              "    60% {\n",
              "      border-color: transparent;\n",
              "      border-right-color: var(--fill-color);\n",
              "    }\n",
              "    80% {\n",
              "      border-color: transparent;\n",
              "      border-right-color: var(--fill-color);\n",
              "      border-bottom-color: var(--fill-color);\n",
              "    }\n",
              "    90% {\n",
              "      border-color: transparent;\n",
              "      border-bottom-color: var(--fill-color);\n",
              "    }\n",
              "  }\n",
              "</style>\n",
              "\n",
              "  <script>\n",
              "    async function quickchart(key) {\n",
              "      const quickchartButtonEl =\n",
              "        document.querySelector('#' + key + ' button');\n",
              "      quickchartButtonEl.disabled = true;  // To prevent multiple clicks.\n",
              "      quickchartButtonEl.classList.add('colab-df-spinner');\n",
              "      try {\n",
              "        const charts = await google.colab.kernel.invokeFunction(\n",
              "            'suggestCharts', [key], {});\n",
              "      } catch (error) {\n",
              "        console.error('Error during call to suggestCharts:', error);\n",
              "      }\n",
              "      quickchartButtonEl.classList.remove('colab-df-spinner');\n",
              "      quickchartButtonEl.classList.add('colab-df-quickchart-complete');\n",
              "    }\n",
              "    (() => {\n",
              "      let quickchartButtonEl =\n",
              "        document.querySelector('#df-a4038b5a-891a-4cd2-846b-ffa59c804bef button');\n",
              "      quickchartButtonEl.style.display =\n",
              "        google.colab.kernel.accessAllowed ? 'block' : 'none';\n",
              "    })();\n",
              "  </script>\n",
              "</div>\n",
              "    </div>\n",
              "  </div>\n"
            ],
            "application/vnd.google.colaboratory.intrinsic+json": {
              "type": "dataframe",
              "variable_name": "datos",
              "summary": "{\n  \"name\": \"datos\",\n  \"rows\": 8,\n  \"fields\": [\n    {\n      \"column\": \"Celsius\",\n      \"properties\": {\n        \"dtype\": \"string\",\n        \"num_unique_values\": 7,\n        \"samples\": [\n          \"38\",\n          \"22\",\n          \"- 40\"\n        ],\n        \"semantic_type\": \"\",\n        \"description\": \"\"\n      }\n    },\n    {\n      \"column\": \"Fahrenheit\",\n      \"properties\": {\n        \"dtype\": \"string\",\n        \"num_unique_values\": 7,\n        \"samples\": [\n          \"100.4\",\n          \"71.6\",\n          \"- 40\"\n        ],\n        \"semantic_type\": \"\",\n        \"description\": \"\"\n      }\n    }\n  ]\n}"
            }
          },
          "metadata": {},
          "execution_count": 9
        }
      ]
    },
    {
      "cell_type": "code",
      "source": [
        "datosf.info()"
      ],
      "metadata": {
        "colab": {
          "base_uri": "https://localhost:8080/"
        },
        "id": "lrLdXKk_oF-k",
        "outputId": "bd8a5df0-230e-4b8a-a32f-b0593f0b1b19"
      },
      "execution_count": null,
      "outputs": [
        {
          "output_type": "stream",
          "name": "stdout",
          "text": [
            "<class 'pandas.core.frame.DataFrame'>\n",
            "RangeIndex: 8 entries, 0 to 7\n",
            "Data columns (total 2 columns):\n",
            " #   Column      Non-Null Count  Dtype \n",
            "---  ------      --------------  ----- \n",
            " 0   Celsius     7 non-null      object\n",
            " 1   Fahrenheit  7 non-null      object\n",
            "dtypes: object(2)\n",
            "memory usage: 256.0+ bytes\n"
          ]
        }
      ]
    },
    {
      "cell_type": "code",
      "source": [
        "import seaborn as sb\n",
        "sb.scatterplot(x = \"Celsius\", y= \"Fahrenheit\", data = datos)"
      ],
      "metadata": {
        "colab": {
          "base_uri": "https://localhost:8080/",
          "height": 467
        },
        "id": "UnUabgm8lOy4",
        "outputId": "b1da79ff-bfd4-4d94-be0a-7a8c904643bd"
      },
      "execution_count": null,
      "outputs": [
        {
          "output_type": "execute_result",
          "data": {
            "text/plain": [
              "<Axes: xlabel='Celsius', ylabel='Fahrenheit'>"
            ]
          },
          "metadata": {},
          "execution_count": 10
        },
        {
          "output_type": "display_data",
          "data": {
            "text/plain": [
              "<Figure size 640x480 with 1 Axes>"
            ],
            "image/png": "[encoded data removed]"
          },
          "metadata": {}
        }
      ]
    },
    {
      "cell_type": "code",
      "source": [
        "datosf.head()"
      ],
      "metadata": {
        "colab": {
          "base_uri": "https://localhost:8080/",
          "height": 635
        },
        "id": "0A78tCGxoWTh",
        "outputId": "a8e8e8cb-9ef1-4890-ebd9-4922d043a57e"
      },
      "execution_count": null,
      "outputs": [
        {
          "output_type": "execute_result",
          "data": {
            "text/plain": [
              "  Celsius Fahrenheit\n",
              "0     NaN        NaN\n",
              "1    - 10         14\n",
              "2    - 40       - 40\n",
              "3       0         32\n",
              "4       8       46.4"
            ],
            "text/html": [
              "\n",
              "  <div id=\"df-66b7e4b4-79ee-4429-9db8-bd463295cecc\" class=\"colab-df-container\">\n",
              "    <div>\n",
              "<style scoped>\n",
              "    .dataframe tbody tr th:only-of-type {\n",
              "        vertical-align: middle;\n",
              "    }\n",
              "\n",
              "    .dataframe tbody tr th {\n",
              "        vertical-align: top;\n",
              "    }\n",
              "\n",
              "    .dataframe thead th {\n",
              "        text-align: right;\n",
              "    }\n",
              "</style>\n",
              "<table border=\"1\" class=\"dataframe\">\n",
              "  <thead>\n",
              "    <tr style=\"text-align: right;\">\n",
              "      <th></th>\n",
              "      <th>Celsius</th>\n",
              "      <th>Fahrenheit</th>\n",
              "    </tr>\n",
              "  </thead>\n",
              "  <tbody>\n",
              "    <tr>\n",
              "      <th>0</th>\n",
              "      <td>NaN</td>\n",
              "      <td>NaN</td>\n",
              "    </tr>\n",
              "    <tr>\n",
              "      <th>1</th>\n",
              "      <td>- 10</td>\n",
              "      <td>14</td>\n",
              "    </tr>\n",
              "    <tr>\n",
              "      <th>2</th>\n",
              "      <td>- 40</td>\n",
              "      <td>- 40</td>\n",
              "    </tr>\n",
              "    <tr>\n",
              "      <th>3</th>\n",
              "      <td>0</td>\n",
              "      <td>32</td>\n",
              "    </tr>\n",
              "    <tr>\n",
              "      <th>4</th>\n",
              "      <td>8</td>\n",
              "      <td>46.4</td>\n",
              "    </tr>\n",
              "  </tbody>\n",
              "</table>\n",
              "</div>\n",
              "    <div class=\"colab-df-buttons\">\n",
              "\n",
              "  <div class=\"colab-df-container\">\n",
              "    <button class=\"colab-df-convert\" onclick=\"convertToInteractive('df-66b7e4b4-79ee-4429-9db8-bd463295cecc')\"\n",
              "            title=\"Convert this dataframe to an interactive table.\"\n",
              "            style=\"display:none;\">\n",
              "\n",
              "  <svg xmlns=\"http://www.w3.org/2000/svg\" height=\"24px\" viewBox=\"0 -960 960 960\">\n",
              "    <path d=\"M120-120v-720h720v720H120Zm60-500h600v-160H180v160Zm220 220h160v-160H400v160Zm0 220h160v-160H400v160ZM180-400h160v-160H180v160Zm440 0h160v-160H620v160ZM180-180h160v-160H180v160Zm440 0h160v-160H620v160Z\"/>\n",
              "  </svg>\n",
              "    </button>\n",
              "\n",
              "  <style>\n",
              "    .colab-df-container {\n",
              "      display:flex;\n",
              "      gap: 12px;\n",
              "    }\n",
              "\n",
              "    .colab-df-convert {\n",
              "      background-color: #E8F0FE;\n",
              "      border: none;\n",
              "      border-radius: 50%;\n",
              "      cursor: pointer;\n",
              "      display: none;\n",
              "      fill: #1967D2;\n",
              "      height: 32px;\n",
              "      padding: 0 0 0 0;\n",
              "      width: 32px;\n",
              "    }\n",
              "\n",
              "    .colab-df-convert:hover {\n",
              "      background-color: #E2EBFA;\n",
              "      box-shadow: 0px 1px 2px rgba(60, 64, 67, 0.3), 0px 1px 3px 1px rgba(60, 64, 67, 0.15);\n",
              "      fill: #174EA6;\n",
              "    }\n",
              "\n",
              "    .colab-df-buttons div {\n",
              "      margin-bottom: 4px;\n",
              "    }\n",
              "\n",
              "    [theme=dark] .colab-df-convert {\n",
              "      background-color: #3B4455;\n",
              "      fill: #D2E3FC;\n",
              "    }\n",
              "\n",
              "    [theme=dark] .colab-df-convert:hover {\n",
              "      background-color: #434B5C;\n",
              "      box-shadow: 0px 1px 3px 1px rgba(0, 0, 0, 0.15);\n",
              "      filter: drop-shadow(0px 1px 2px rgba(0, 0, 0, 0.3));\n",
              "      fill: #FFFFFF;\n",
              "    }\n",
              "  </style>\n",
              "\n",
              "    <script>\n",
              "      const buttonEl =\n",
              "        document.querySelector('#df-66b7e4b4-79ee-4429-9db8-bd463295cecc button.colab-df-convert');\n",
              "      buttonEl.style.display =\n",
              "        google.colab.kernel.accessAllowed ? 'block' : 'none';\n",
              "\n",
              "      async function convertToInteractive(key) {\n",
              "        const element = document.querySelector('#df-66b7e4b4-79ee-4429-9db8-bd463295cecc');\n",
              "        const dataTable =\n",
              "          await google.colab.kernel.invokeFunction('convertToInteractive',\n",
              "                                                    [key], {});\n",
              "        if (!dataTable) return;\n",
              "\n",
              "        const docLinkHtml = 'Like what you see? Visit the ' +\n",
              "          '<a target=\"_blank\" href=https://colab.research.google.com/notebooks/data_table.ipynb>data table notebook</a>'\n",
              "          + ' to learn more about interactive tables.';\n",
              "        element.innerHTML = '';\n",
              "        dataTable['output_type'] = 'display_data';\n",
              "        await google.colab.output.renderOutput(dataTable, element);\n",
              "        const docLink = document.createElement('div');\n",
              "        docLink.innerHTML = docLinkHtml;\n",
              "        element.appendChild(docLink);\n",
              "      }\n",
              "    </script>\n",
              "  </div>\n",
              "\n",
              "\n",
              "<div id=\"df-6ba82ccc-fd53-45c0-87ef-e829b0f782d8\">\n",
              "  <button class=\"colab-df-quickchart\" onclick=\"quickchart('df-6ba82ccc-fd53-45c0-87ef-e829b0f782d8')\"\n",
              "            title=\"Suggest charts\"\n",
              "            style=\"display:none;\">\n",
              "\n",
              "<svg xmlns=\"http://www.w3.org/2000/svg\" height=\"24px\"viewBox=\"0 0 24 24\"\n",
              "     width=\"24px\">\n",
              "    <g>\n",
              "        <path d=\"M19 3H5c-1.1 0-2 .9-2 2v14c0 1.1.9 2 2 2h14c1.1 0 2-.9 2-2V5c0-1.1-.9-2-2-2zM9 17H7v-7h2v7zm4 0h-2V7h2v10zm4 0h-2v-4h2v4z\"/>\n",
              "    </g>\n",
              "</svg>\n",
              "  </button>\n",
              "\n",
              "<style>\n",
              "  .colab-df-quickchart {\n",
              "      --bg-color: #E8F0FE;\n",
              "      --fill-color: #1967D2;\n",
              "      --hover-bg-color: #E2EBFA;\n",
              "      --hover-fill-color: #174EA6;\n",
              "      --disabled-fill-color: #AAA;\n",
              "      --disabled-bg-color: #DDD;\n",
              "  }\n",
              "\n",
              "  [theme=dark] .colab-df-quickchart {\n",
              "      --bg-color: #3B4455;\n",
              "      --fill-color: #D2E3FC;\n",
              "      --hover-bg-color: #434B5C;\n",
              "      --hover-fill-color: #FFFFFF;\n",
              "      --disabled-bg-color: #3B4455;\n",
              "      --disabled-fill-color: #666;\n",
              "  }\n",
              "\n",
              "  .colab-df-quickchart {\n",
              "    background-color: var(--bg-color);\n",
              "    border: none;\n",
              "    border-radius: 50%;\n",
              "    cursor: pointer;\n",
              "    display: none;\n",
              "    fill: var(--fill-color);\n",
              "    height: 32px;\n",
              "    padding: 0;\n",
              "    width: 32px;\n",
              "  }\n",
              "\n",
              "  .colab-df-quickchart:hover {\n",
              "    background-color: var(--hover-bg-color);\n",
              "    box-shadow: 0 1px 2px rgba(60, 64, 67, 0.3), 0 1px 3px 1px rgba(60, 64, 67, 0.15);\n",
              "    fill: var(--button-hover-fill-color);\n",
              "  }\n",
              "\n",
              "  .colab-df-quickchart-complete:disabled,\n",
              "  .colab-df-quickchart-complete:disabled:hover {\n",
              "    background-color: var(--disabled-bg-color);\n",
              "    fill: var(--disabled-fill-color);\n",
              "    box-shadow: none;\n",
              "  }\n",
              "\n",
              "  .colab-df-spinner {\n",
              "    border: 2px solid var(--fill-color);\n",
              "    border-color: transparent;\n",
              "    border-bottom-color: var(--fill-color);\n",
              "    animation:\n",
              "      spin 1s steps(1) infinite;\n",
              "  }\n",
              "\n",
              "  @keyframes spin {\n",
              "    0% {\n",
              "      border-color: transparent;\n",
              "      border-bottom-color: var(--fill-color);\n",
              "      border-left-color: var(--fill-color);\n",
              "    }\n",
              "    20% {\n",
              "      border-color: transparent;\n",
              "      border-left-color: var(--fill-color);\n",
              "      border-top-color: var(--fill-color);\n",
              "    }\n",
              "    30% {\n",
              "      border-color: transparent;\n",
              "      border-left-color: var(--fill-color);\n",
              "      border-top-color: var(--fill-color);\n",
              "      border-right-color: var(--fill-color);\n",
              "    }\n",
              "    40% {\n",
              "      border-color: transparent;\n",
              "      border-right-color: var(--fill-color);\n",
              "      border-top-color: var(--fill-color);\n",
              "    }\n",
              "    60% {\n",
              "      border-color: transparent;\n",
              "      border-right-color: var(--fill-color);\n",
              "    }\n",
              "    80% {\n",
              "      border-color: transparent;\n",
              "      border-right-color: var(--fill-color);\n",
              "      border-bottom-color: var(--fill-color);\n",
              "    }\n",
              "    90% {\n",
              "      border-color: transparent;\n",
              "      border-bottom-color: var(--fill-color);\n",
              "    }\n",
              "  }\n",
              "</style>\n",
              "\n",
              "  <script>\n",
              "    async function quickchart(key) {\n",
              "      const quickchartButtonEl =\n",
              "        document.querySelector('#' + key + ' button');\n",
              "      quickchartButtonEl.disabled = true;  // To prevent multiple clicks.\n",
              "      quickchartButtonEl.classList.add('colab-df-spinner');\n",
              "      try {\n",
              "        const charts = await google.colab.kernel.invokeFunction(\n",
              "            'suggestCharts', [key], {});\n",
              "      } catch (error) {\n",
              "        console.error('Error during call to suggestCharts:', error);\n",
              "      }\n",
              "      quickchartButtonEl.classList.remove('colab-df-spinner');\n",
              "      quickchartButtonEl.classList.add('colab-df-quickchart-complete');\n",
              "    }\n",
              "    (() => {\n",
              "      let quickchartButtonEl =\n",
              "        document.querySelector('#df-6ba82ccc-fd53-45c0-87ef-e829b0f782d8 button');\n",
              "      quickchartButtonEl.style.display =\n",
              "        google.colab.kernel.accessAllowed ? 'block' : 'none';\n",
              "    })();\n",
              "  </script>\n",
              "</div>\n",
              "    </div>\n",
              "  </div>\n"
            ],
            "application/vnd.google.colaboratory.intrinsic+json": {
              "type": "dataframe",
              "variable_name": "datosf",
              "summary": "{\n  \"name\": \"datosf\",\n  \"rows\": 8,\n  \"fields\": [\n    {\n      \"column\": \"Celsius\",\n      \"properties\": {\n        \"dtype\": \"string\",\n        \"num_unique_values\": 7,\n        \"samples\": [\n          \"- 10\",\n          \"- 40\",\n          \"22\"\n        ],\n        \"semantic_type\": \"\",\n        \"description\": \"\"\n      }\n    },\n    {\n      \"column\": \"Fahrenheit\",\n      \"properties\": {\n        \"dtype\": \"string\",\n        \"num_unique_values\": 7,\n        \"samples\": [\n          \"14\",\n          \"- 40\",\n          \"71.6\"\n        ],\n        \"semantic_type\": \"\",\n        \"description\": \"\"\n      }\n    }\n  ]\n}"
            }
          },
          "metadata": {},
          "execution_count": 14
        },
        {
          "output_type": "display_data",
          "data": {
            "text/plain": [
              "<google.colab._quickchart_helpers.SectionTitle at 0x7f56049a4760>"
            ],
            "text/html": [
              "<h4 class=\"colab-quickchart-section-title\">Categorical distributions</h4>\n",
              "<style>\n",
              "  .colab-quickchart-section-title {\n",
              "      clear: both;\n",
              "  }\n",
              "</style>"
            ]
          },
          "metadata": {}
        },
        {
          "output_type": "display_data",
          "data": {
            "text/plain": [
              "from matplotlib import pyplot as plt\n",
              "import seaborn as sns\n",
              "_df_0.groupby('Celsius').size().plot(kind='barh', color=sns.palettes.mpl_palette('Dark2'))\n",
              "plt.gca().spines[['top', 'right',]].set_visible(False)"
            ],
            "text/html": [
              "      <div class=\"colab-quickchart-chart-with-code\" id=\"chart-9e942162-58c5-4d05-8eb1-09460bf22ce4\">\n",
              "        <img style=\"width: 180px;\" src=\"data:image/png;base64,iVBORw0KGgoAAAANSUhEUgAAAi4AAAGZCAYAAACubbqPAAAAOXRFWHRTb2Z0d2FyZQBNYXRwbG90\n",
              "bGliIHZlcnNpb24zLjcuMSwgaHR0cHM6Ly9tYXRwbG90bGliLm9yZy/bCgiHAAAACXBIWXMAAA9h\n",
              "AAAPYQGoP6dpAAAWW0lEQVR4nO3de2zX9b3H8fcPGpszlHIyBYlQOoogXisTtoDugGYbmTgZBsUM\n",
              "Lzhv29yNKQbnJW5kTE50W+Yf6uJQZqZmwsYy3ZagE5Vs8UpQ2UVQKEfrLRM6HZZCv+cPI2cV3Pl1\n",
              "tv32XR6P5Jes7bfw8hOzPv3292srRVEUAQCQwICyBwAAVEu4AABpCBcAIA3hAgCkIVwAgDSECwCQ\n",
              "hnABANIQLgBAGsIFAEijX4bLD3/4w7InAAA9oF+Gy+bNm8ueAAD0gH4ZLgBA/yRcAIA0hAsAkIZw\n",
              "AQDSEC4AQBrCBQBIQ7gAAGkIFwAgDeECAKQhXACANIQLAJCGcAEA0hAuAEAawgUASEO4AABpCBcA\n",
              "IA3hAgCkIVwAgDSECwCQhnABANIQLgBAGjVlD+gJb93+eLz82/8uewYA9CsHr7+s7AnuuAAAeQgX\n",
              "ACAN4QIApCFcAIA0hAsAkIZwAQDSEC4AQBrCBQBIQ7gAAGkIFwAgDeECAKQhXACANIQLAJCGcAEA\n",
              "0hAuAEAawgUASEO4AABpCBcAII0+Gy733XdfTJgwIZqamuLII4+M22+/vexJAEDJasoesDdFUcTc\n",
              "uXPjwQcfjKOPPjo2bdoUhx12WMyaNSsOOOCAsucBACXps3dcKpVKbN26NSIiWltb48Mf/nDU1taW\n",
              "OwoAKFWfvONSqVTi7rvvjlmzZsWgQYPijTfeiBUrVsR+++23x7VtbW3R1tbW6X27io7emgoA9KI+\n",
              "ecdl586dsWjRolixYkVs3rw57r///jjrrLPi9ddf3+PaxYsXR11dXafH2u1bSlgNAPS0Phkua9eu\n",
              "jZdeeik+8YlPRETExIkTY8SIEfHUU0/tce3ChQtj27ZtnR5N/zGytycDAL2gT36raOTIkdHS0hJ/\n",
              "+tOfYvz48bFhw4bYuHFjjBs3bo9ra2tr93juy8BKn+wxAOAD6pPhMmzYsLjlllvi9NNPjwEDBkRH\n",
              "R0fceOONUV9fX/Y0AKBEfTJcIiLOPPPMOPPMM8ueAQD0Ib6nAgCkIVwAgDSECwCQhnABANIQLgBA\n",
              "GsIFAEhDuAAAaQgXACAN4QIApCFcAIA0hAsAkIZwAQDSEC4AQBrCBQBIQ7gAAGkIFwAgDeECAKQh\n",
              "XACANGrKHtATBp1zXBx8w2VlzwAAupk7LgBAGsIFAEhDuAAAaQgXACAN4QIApCFcAIA0hAsAkIZw\n",
              "AQDSEC4AQBrCBQBIQ7gAAGkIFwAgDeECAKQhXACANIQLAJCGcAEA0hAuAEAawgUASEO4AABpCBcA\n",
              "IA3hAgCkIVwAgDSECwCQhnABANIQLgBAGsIFAEhDuAAAaQgXACAN4QIApCFcAIA0hAsAkIZwAQDS\n",
              "EC4AQBrCBQBIQ7gAAGkIFwAgDeECAKQhXACANIQLAJCGcAEA0hAuAEAawgUASEO4AABpCBcAIA3h\n",
              "AgCkUSmKoih7RHc7bsLMOPG/zi97BgD0K0u+P6PsCe64AAB5CBcAIA3hAgCkIVwAgDSECwCQhnAB\n",
              "ANIQLgBAGsIFAEhDuAAAaQgXACAN4QIApCFcAIA0hAsAkIZwAQDSEC4AQBrCBQBIQ7gAAGkIFwAg\n",
              "DeECAKTRZ8Plueeei8mTJ8fYsWNj4sSJ8eyzz5Y9CQAoWZ8Nl4suuiguvPDC+Otf/xqXX355nHvu\n",
              "uWVPAgBK1ifD5dVXX43HH3885s6dGxERp512WmzZsiU2bNiwx7VtbW3R2tra6VF0dPT2ZACgF/TJ\n",
              "cNmyZUsMHz48ampqIiKiUqlEfX19NDc373Ht4sWLo66urtOj5ZW/9vZkAKAX9Mlw6YqFCxfGtm3b\n",
              "Oj2GDxtb9iwAoAfUlD1gb0aOHBktLS2xc+fOqKmpiaIoorm5Oerr6/e4tra2Nmprazu9rzIgfY8B\n",
              "AHvRJ7/CDx06NCZMmBB33HFHREQsX748RowYEWPGjCl5GQBQpj55xyUi4uabb45zzz03vvvd78bg\n",
              "wYNj6dKlZU8CAErWZ8Nl3Lhx8Yc//KHsGQBAH9Inv1UEALA3wgUASEO4AABpCBcAIA3hAgCkIVwA\n",
              "gDSECwCQhnABANIQLgBAGsIFAEhDuAAAaQgXACAN4QIApCFcAIA0hAsAkIZwAQDSEC4AQBo1ZQ/o\n",
              "CZ+YOjqW3DCj7BkAQDdzxwUASEO4AABpCBcAIA3hAgCkIVwAgDSECwCQRpfD5eqrr46tW7dGURRx\n",
              "8sknx4EHHhjLly/viW0AAJ10OVxWrlwZQ4YMiVWrVkVNTU2sWbMmFi1a1BPbAAA66XK4DBjwzqes\n",
              "Xr06Zs+eHePGjYtKpdLtwwAA3qvLPzl30KBBcd1118Vdd90Va9asiaIoYseOHT2xDQCgky7fcbnt\n",
              "ttuipaUllixZEsOGDYuNGzfG3Llze2IbAEAnlaIoirJHdLf58+fHDTfcUPYMAKCbdflbRdOmTdvr\n",
              "c1oeeOCBbhkEAPB+uhwul1566e7//fbbb8fPfvazGDt2bLeOAgDYmy6Hy8knn9zp7VNPPTVOPPHE\n",
              "bhsEAPB+PvBPzt21a1e89NJL3bEFAOBf6vIdl8997nO7n+Oya9euWLduXXzmM5/p9mEAAO/V5XCZ\n",
              "OXPm/31yTU1cccUV8bGPfaw7NwEA7FWXw+Wcc87piR0AAP+vqsPl+uuvj29+85sxf/78vX7cz00B\n",
              "AHpa1eGy//77R0REXV1dj40BAPhX/ORcACCNLr8c+uqrr46tW7dGURRx8sknx4EHHhjLly/viW0A\n",
              "AJ10OVxWrlwZQ4YMiVWrVkVNTU2sWbMmFi1a1BPbAAA66XK4DBjwzqesXr06Zs+eHePGjdvr7y4C\n",
              "AOhuXX459KBBg+K6666Lu+66K9asWRNFUcSOHTt6YhsAQCddvuNy2223RUtLSyxZsiSGDRsWGzdu\n",
              "jLlz5/bENgCATryqCABIo+pvFf3z7yjamxUrVnTLIACA91N1uPzz7ygCAChD1eHy3t9R1NbWFrW1\n",
              "td0+CADg/XT5yblPP/10HHnkkdHY2BgREU888UQsWLCg24cBALxXl8PlK1/5Stx0001x0EEHRUTE\n",
              "hAkT4t577+32YQAA79XlcHnzzTfj+OOP3/12pVKJ/fbbr1tHAQDsTZfDpaamJtrb23e/wmjLli0x\n",
              "cODAbh8GAPBeXQ6XSy65JGbOnBmvvfZaXHnllXHCCSd4jgsA0CuqflVRa2tr/O1vf4u5c+fG6NGj\n",
              "Y+XKlbFjx45YtmxZNDU19eBEAIB3VH3HZcGCBfHEE09ERMTkyZPjuuuuiyVLlsTrr78el19+eY8N\n",
              "BAB4V9Xh8uijj8Zpp522x/tnzZoVDz30ULeOAgDYm6rDZefOne//hwzo8lNlAAC6rOriaG9vj9bW\n",
              "1j3ev23btmhvb+/WUQAAe1N1uMyZMyfOOuuseOONN3a/74033oh58+bFnDlzemQcAMA/qzpcrrzy\n",
              "yhgyZEiMHDkyjj322Dj22GNj5MiRccABB8RVV13VkxsBACKiCy+HHjhwYNx+++1x9dVXx5NPPhkR\n",
              "7/y4/3d/ZxEAQE+rOlze1djYKFYAgFJ4ORAAkEalKIqi7BHdbd4RlVg4UZMBQHcae9uusie44wIA\n",
              "5CFcAIA0hAsAkIZwAQDSEC4AQBrCBQBIQ7gAAGkIFwAgDeECAKQhXACANIQLAJCGcAEA0hAuAEAa\n",
              "wgUASEO4AABpCBcAIA3hAgCkIVwAgDRKDZft27fH4YcfHk1NTZ3ef+utt8ahhx4ajY2NccEFF0R7\n",
              "e3s5AwGAPqXUcLn88stjypQpnd73wgsvxFVXXRUPP/xwbNiwIV555ZW45ZZbSloIAPQlpYXLqlWr\n",
              "4sUXX4zPf/7znd5/zz33xGc/+9k4+OCDo1KpxMUXXxx33nlnSSsBgL6kpoy/dOvWrbFgwYL47W9/\n",
              "G+vXr+/0sebm5hg1atTutxsaGqK5ufl9/6y2trZoa2vr9L5dHd27FwDoG0q543LJJZfEFVdcEUOH\n",
              "Dv3Af9bixYujrq6u02Pd690wEgDoc3okXJYtWxZNTU3R1NQUS5cu3ePjjzzySFx66aXR0NAQc+bM\n",
              "ifXr18e4ceMiIqK+vj42b968+9pNmzZFfX39+/5dCxcujG3btnV6HH1g9/8zAQDlqxRFUZQ54MEH\n",
              "H4yvf/3rsXbt2oiIeP755+P444+PJ598MoYNGxannnpqfOpTn4pLLrmk6j9z3hGVWDjRK70BoDuN\n",
              "vW1X2RP63s9xGT16dFx77bUxZcqUGDNmTBx00EFx0UUXlT0LAOgDSr/j0hPccQGA7ueOCwBAFwgX\n",
              "ACAN4QIApCFcAIA0hAsAkIZwAQDSEC4AQBrCBQBIQ7gAAGkIFwAgDeECAKQhXACANIQLAJCGcAEA\n",
              "0hAuAEAawgUASEO4AABpCBcAII2asgf0hP/89Ddi7A03lD0DAOhm7rgAAGkIFwAgDeECAKQhXACA\n",
              "NIQLAJCGcAEA0hAuAEAawgUASEO4AABpCBcAIA3hAgCkIVwAgDSECwCQhnABANIQLgBAGsIFAEhD\n",
              "uAAAaQgXACAN4QIApCFcAIA0hAsAkIZwAQDSEC4AQBrCBQBIQ7gAAGkIFwAgDeECAKQhXACANIQL\n",
              "AJCGcAEA0hAuAEAawgUASEO4AABpCBcAIA3hAgCkIVwAgDSECwCQhnABANIQLgBAGsIFAEhDuAAA\n",
              "aQgXACAN4QIApCFcAIA0hAsAkEalKIqi7BHdbf9PT4whc04qewYA9Cv/M+97ZU9wxwUAyEO4AABp\n",
              "CBcAIA3hAgCkIVwAgDSECwCQhnABANIQLgBAGsIFAEhDuAAAaQgXACAN4QIApCFcAIA0hAsAkIZw\n",
              "AQDSEC4AQBrCBQBIQ7gAAGmUFi6PPfZYTJ48OT70oQ/FzJkz9/j4okWLorGxMRobG+Nb3/pW7w8E\n",
              "APqc0sJl+PDh8YMf/CC+//3v7/Gxhx56KO68885Yt25drF+/Pn73u9/FvffeW8JKAKAvKS1cRowY\n",
              "EZMmTYra2to9Pnb33XfHWWedFYMGDYra2to477zz4s477yxhJQDQl/TJ57g0NzfHqFGjdr/d0NAQ\n",
              "zc3Ne722ra0tWltbOz1iV9FbUwGAXtQnw6UrFi9eHHV1dZ0eO15oKXsWANADeixcli1bFk1NTdHU\n",
              "1BRLly7t0ufW19fH5s2bd7+9adOmqK+v3+u1CxcujG3btnV67PeR4R9oOwDQN/VYuJx99tmxdu3a\n",
              "WLt2bcybN69Lnzt79uz46U9/Gm+99Va0tbXFT37yk5gzZ85er62trY3Bgwd3esTASnf8IwAAfUxN\n",
              "WX/xX/7ylzjppJPiH//4R2zfvj1GjBgRV1xxRXzpS1+KqVOnxhlnnBFHHXVUREScccYZMWPGjLKm\n",
              "AgB9RKUoin73TNb9Pz0xhsw5qewZANCv/M+875U9If+TcwGAfYdwAQDSEC4AQBrCBQBIQ7gAAGkI\n",
              "FwAgDeECAKQhXACANIQLAJCGcAEA0hAuAEAawgUASEO4AABpCBcAIA3hAgCkIVwAgDSECwCQhnAB\n",
              "ANKoKXtAT7jwiBPihnnfK3sGANDN3HEBANIQLgBAGsIFAEhDuAAAaQgXACAN4QIApCFcAIA0hAsA\n",
              "kIZwAQDSEC4AQBrCBQBIQ7gAAGkIFwAgDeECAKQhXACANIQLAJCGcAEA0hAuAEAawgUASEO4AABp\n",
              "CBcAIA3hAgCkUVP2gO7W1tYWv/nNb2LXrl0xcODAsufsM3bt2hWPPvpoTJo0ybn3MmdfDudeHmdf\n",
              "jt4491GjRsXXvva1f3lNpSiKokf+9pK0trZGXV1dbNu2LQYPHlz2nH2Gcy+Psy+Hcy+Psy9HXzl3\n",
              "3yoCANIQLgBAGsIFAEij34VLbW1tXHPNNVFbW1v2lH2Kcy+Psy+Hcy+Psy9HXzn3fvfkXACg/+p3\n",
              "d1wAgP5LuAAAaQgXACCNtOHy3HPPxeTJk2Ps2LExceLEePbZZ/d63a233hqHHnpoNDY2xgUXXBDt\n",
              "7e29vLR/qebcH3jggZg0aVIcfvjhccQRR8SCBQuio6OjhLX9S7X/zkdEFEURJ554YgwZMqT3BvZT\n",
              "1Z77008/HVOnTo3x48fH+PHjY8WKFb28tP+p5uw7Ojpi/vz5cfjhh8fRRx8d06ZNiw0bNpSwtn/4\n",
              "6le/Gg0NDVGpVGLt2rXve12pX1uLpKZNm1YsXbq0KIqi+PnPf14cd9xxe1zz/PPPF8OHDy9aWlqK\n",
              "jo6O4pRTTiluvPHGXl7av1Rz7k8++WSxcePGoiiKYvv27cWUKVN2fw7/vmrO/l3XX399cf755xd1\n",
              "dXW9M64fq+bc33rrreIjH/lI8fDDDxdFURQ7d+4sXn311d6c2S9Vc/a/+MUvikmTJhU7duwoiqIo\n",
              "vvOd7xSzZ8/uzZn9yurVq4stW7YUo0aNKp566qm9XlP219aU4fLKK68UBxxwQNHe3l4URVF0dHQU\n",
              "w4YNK5577rlO1y1ZsqS46KKLdr997733FlOmTOnVrf1Jtef+Xl/+8peLa665phcW9l9dOftnnnmm\n",
              "OOGEE4oNGzYIlw+o2nP/8Y9/XJx55pllTOy3qj37X/7yl8UxxxxTtLa2Fh0dHcVll11WfOMb3yhj\n",
              "cr/yr8Kl7K+tKb9VtGXLlhg+fHjU1LzzOyIrlUrU19dHc3Nzp+uam5tj1KhRu99uaGjY4xqqV+25\n",
              "/7OXX3457rnnnpgxY0ZvzeyXqj379vb2uOCCC+Lmm2/2y+e6QbXnvn79+qitrY0ZM2ZEU1NTnH32\n",
              "2fHaa6+VMbnfqPbsTznllJg6dWocfPDBMXz48Lj//vvj29/+dhmT9xllf21NGS7k0NraGqecckos\n",
              "WLAgjjvuuLLn7BOuvfbamDVrVowfP77sKfuUnTt3xqpVq+Lmm2+Op556Kg455JD44he/WPasfcLj\n",
              "jz8ezzzzTLz44ovx0ksvxUknnRQXX3xx2bPoQSnDZeTIkdHS0hI7d+6MiHeeiNjc3Bz19fWdrquv\n",
              "r4/NmzfvfnvTpk17XEP1qj33iIi///3vMX369Dj11FNj/vz5vT2136n27FevXh0/+tGPoqGhIY4/\n",
              "/vhobW2NhoYG//X/b+rK/9dMmzYtDjnkkKhUKjF37tz44x//WMbkfqPas1+2bNnuJ6IPGDAgzjnn\n",
              "nPj9739fxuR9RtlfW1OGy9ChQ2PChAlxxx13RETE8uXLY8SIETFmzJhO15122mnxq1/9Kl5++eUo\n",
              "iiJuuummmDNnThmT+4Vqz/3NN9+M6dOnx/Tp0+PKK68sY2q/U+3ZP/zww7F58+bYtGlTPPLIIzF4\n",
              "8ODYtGlTHHTQQWXMTq/acz/99NPjsccei9bW1oiIuO++++KYY47p9b39SbVnP3r06HjggQdix44d\n",
              "ERHx61//Oo488she37svKf1ra689m6ab/fnPfy4+/vGPF4ceemjx0Y9+tFi3bl1RFEXxhS98oVi5\n",
              "cuXu62655ZZi9OjRxejRo4vzzjtv9zPP+fdUc+6LFi0qampqimOOOWb3Y9GiRWXO7heq/Xf+XS+8\n",
              "8IIn53aDas992bJlxRFHHFEcddRRxfTp04vm5uayJvcb1Zz922+/XZx//vnFYYcdVhx11FHFJz/5\n",
              "yd2vaqTrLrzwwuKQQw4pBg4cWAwdOrRobGwsiqJvfW31u4oAgDRSfqsIANg3CRcAIA3hAgCkIVwA\n",
              "gDSECwCQhnABANIQLgBAGsIFAEhDuAAAaQgXACAN4QIApPG/nRfTDDHpPfwAAAAASUVORK5CYII=\n",
              "\">\n",
              "      </div>\n",
              "      <script type=\"text/javascript\">\n",
              "        (() => {\n",
              "          const chartElement = document.getElementById(\"chart-9e942162-58c5-4d05-8eb1-09460bf22ce4\");\n",
              "          async function getCodeForChartHandler(event) {\n",
              "            const chartCodeResponse =  await google.colab.kernel.invokeFunction(\n",
              "                'getCodeForChart', [\"chart-9e942162-58c5-4d05-8eb1-09460bf22ce4\"], {});\n",
              "            const responseJson = chartCodeResponse.data['application/json'];\n",
              "            await google.colab.notebook.addCell(responseJson.code, 'code');\n",
              "          }\n",
              "          chartElement.onclick = getCodeForChartHandler;\n",
              "        })();\n",
              "      </script>\n",
              "      <style>\n",
              "        .colab-quickchart-chart-with-code  {\n",
              "            display: block;\n",
              "            float: left;\n",
              "            border: 1px solid transparent;\n",
              "        }\n",
              "\n",
              "        .colab-quickchart-chart-with-code:hover {\n",
              "            cursor: pointer;\n",
              "            border: 1px solid #aaa;\n",
              "        }\n",
              "      </style>"
            ]
          },
          "metadata": {}
        },
        {
          "output_type": "display_data",
          "data": {
            "text/plain": [
              "from matplotlib import pyplot as plt\n",
              "import seaborn as sns\n",
              "_df_1.groupby('Fahrenheit').size().plot(kind='barh', color=sns.palettes.mpl_palette('Dark2'))\n",
              "plt.gca().spines[['top', 'right',]].set_visible(False)"
            ],
            "text/html": [
              "      <div class=\"colab-quickchart-chart-with-code\" id=\"chart-a6602e56-b961-4066-87ee-74c085d3c16f\">\n",
              "        <img style=\"width: 180px;\" src=\"data:image/png;base64,iVBORw0KGgoAAAANSUhEUgAAAjEAAAGZCAYAAAB4yGDqAAAAOXRFWHRTb2Z0d2FyZQBNYXRwbG90\n",
              "bGliIHZlcnNpb24zLjcuMSwgaHR0cHM6Ly9tYXRwbG90bGliLm9yZy/bCgiHAAAACXBIWXMAAA9h\n",
              "AAAPYQGoP6dpAAAYxElEQVR4nO3de4xU9f3w8c8IsrRV8PKgECm7cqsol1UU0fUCGpE0KqRVqylR\n",
              "23KRlqqlitVoLS0RtS3W2kSUGn4lpsaqCNZbUxQt/oGXAhVK2geEZS0q9bHIagsrsOf5o3Hj/lCc\n",
              "0Z09811er2QS5szZmc9+Y5x3zjmzU8iyLAsAgMTsl/cAAACfhogBAJIkYgCAJIkYACBJIgYASJKI\n",
              "AQCSJGIAgCSJGAAgSSIGAEhSh4+YO+64I+8RAIAy6PARs2nTprxHAADKoMNHDADQMYkYACBJIgYA\n",
              "SJKIAQCSJGIAgCSJGAAgSSIGAEiSiAEAkiRiAIAkiRgAIEkiBgBIkogBAJIkYgCAJIkYACBJIgYA\n",
              "SJKIAQCSJGIAgCSJGAAgSSIGAEiSiAEAkiRiAIAkdc57gHL7929ejjef+mneYwBAh9Jz7TV5j+BI\n",
              "DACQJhEDACRJxAAASRIxAECSRAwAkCQRAwAkScQAAEkSMQBAkkQMAJAkEQMAJEnEAABJEjEAQJJE\n",
              "DACQJBEDACRJxAAASRIxAECSRAwAkCQRAwAkqV0iZv78+VEoFGLRokUREZFlWfzoRz+KgQMHxpAh\n",
              "Q2L06NGf+ByXXXZZFAqFeOedd8o7LACQhM7lfoH6+vqYN29ejBw5smXbL3/5y3jllVdizZo10aVL\n",
              "l3jzzTf3+hwLFy6M/fffv9yjAgAJKeuRmObm5pg4cWLceeedUVVV1bL9pz/9adxyyy3RpUuXiIjo\n",
              "2bPnxz7Hli1b4uabb445c+aUc1QAIDFljZg5c+ZEXV1dDB8+vGVbY2NjbNmyJRYvXhwnnnhinHji\n",
              "ifHAAw987HNMmjQpbrvttjjwwAM/8fWampqisbGx1W131twmvwsAUFnKdjppzZo18fDDD8ef/vSn\n",
              "Vtt37doVu3btiu3bt8cLL7wQ9fX1cfLJJ8dRRx0Vw4YNa7Xvr3/96+jTp0+cccYZRb3m7NmzY+bM\n",
              "ma22De/a57P9IgBARSrbkZhly5ZFfX19DBgwIGpqamL58uUxefLkeOCBB+KAAw6ICRMmRERETU1N\n",
              "1NXVxUsvvbTHcyxdujQWL14cNTU1UVNTExERQ4cOjZUrV37ka1533XWxbdu2Vrfaz32xXL8iAJCj\n",
              "QpZlWXu80KhRo+Kqq66K8ePHx+TJk6O2tja+/e1vx7/+9a849thj48EHH4wRI0bsfdhCIbZu3RoH\n",
              "HXRQ0a875dDTYubh537G6QGAD+u59pq8R8jn78TMnj07nnrqqRg8eHCcdtppce2117YEzA9/+MOY\n",
              "O3duHmMBAAlptyMxeXEkBgDa3j57JAYA4LMSMQBAkkQMAJAkEQMAJEnEAABJEjEAQJJEDACQJBED\n",
              "ACRJxAAASRIxAECSRAwAkCQRAwAkScQAAEkSMQBAkkQMAJAkEQMAJEnEAABJEjEAQJI65z1AuX3h\n",
              "0uOj55xr8h4DAGhjjsQAAEkSMQBAkkQMAJAkEQMAJEnEAABJEjEAQJJEDACQJBEDACRJxAAASRIx\n",
              "AECSRAwAkCQRAwAkScQAAEkSMQBAkkQMAJAkEQMAJEnEAABJEjEAQJJEDACQJBEDACRJxAAASRIx\n",
              "AECSRAwAkCQRAwAkScQAAEkSMQBAkkQMAJAkEQMAJEnEAABJEjEAQJJEDACQJBEDACRJxAAASRIx\n",
              "AECSRAwAkCQRAwAkScQAAEkSMQBAkkQMAJAkEQMAJEnEAABJEjEAQJJEDACQJBEDACRJxAAASSpk\n",
              "WZblPUQ5HX/c+Djj9Il5jwEAHcptt5+T9wiOxAAAaRIxAECSRAwAkCQRAwAkScQAAEkSMQBAkkQM\n",
              "AJAkEQMAJEnEAABJEjEAQJJEDACQJBEDACRJxAAASRIxAECSRAwAkCQRAwAkScQAAEkSMQBAkkQM\n",
              "AJCkiomYMWPGxNChQ6O2tjZOPfXUWLlyZezYsSPGjx8fAwcOjGHDhsVZZ50V69evz3tUAKACVEzE\n",
              "/O53v4tXXnklVq1aFdOnT4/LLrssIiImT54cf//73+Mvf/lLjBs3LiZOnJjvoABARaiYiDnooINa\n",
              "/r1t27YoFArRtWvX+PKXvxyFQiEiIkaOHBn19fUf+xxNTU3R2NjY6pY1N5d5cgAgD53zHuDDLrnk\n",
              "kli6dGlERDzxxBN7PH7HHXfEuHHjPvbnZ8+eHTNnzmy1rVfPL7XtkABARShkWZblPcT/9pvf/CYe\n",
              "eOCBViFz8803x+9///t4+umn4/Of//xH/lxTU1M0NTW12jb6tAlx5ujJZZ0XAPY1t91+Tt4jVM7p\n",
              "pA+79NJLY+nSpfH2229HRMTPfvazWLhwYTz55JMfGzAREVVVVdGtW7dWt8J+FfkrAgCfUUW8w7/z\n",
              "zjvx+uuvt9xftGhRHHrooXHIIYfEnDlz4v77748//vGPra6bAQD2bRVxTcy2bdviggsuiO3bt8d+\n",
              "++0XPXr0iMceeyw2b94c3//+96Nv374xevToiPjv0ZYXXngh54kBgLxVRMRUV1fHiy+++JGPVeAl\n",
              "OwBABaiI00kAAKUSMQBAkkQMAJAkEQMAJEnEAABJEjEAQJJEDACQJBEDACRJxAAASRIxAECSRAwA\n",
              "kCQRAwAkScQAAEkSMQBAkkqOmBEjRhS1DQCgnEqOmF27du1x/913322zgQAAilF0xNx6661x8MEH\n",
              "x+rVq+OQQw5puR144IFx2mmnlXNGAIA9FLIsy4rZcdu2bbF169aYOnVqzJ07t2V7t27d4uCDDy7b\n",
              "gJ/V9OnTY86cOXmPAQC0sc7F7ti9e/fo3r17PPnkk+WcBwCgKEVHzMUXXxz3339/HHvssVEoFPZ4\n",
              "fMWKFW06GADA3hQdMVdffXVERPziF78o1ywAAEUrOmKGDx8eERGnn3567Ny5MxoaGqJfv35lGwwA\n",
              "YG9K/oj1s88+G9XV1TF69OiIiHjppZdiwoQJbT4YAMDelBwxP/jBD2LZsmVx6KGHRkTECSecECtX\n",
              "rmzzwQAA9qbkiNm9e/cep5G6dOnSZgMBABSj5Ijp2rVrvPfeey2fUFq9enV87nOfa/PBAAD2pugL\n",
              "ez9w4403xpgxY2Lz5s0xYcKEWLJkSfz2t78tx2wAAB+r5IgZM2ZMDBgwIJ566qnIsixmzpzpU0oA\n",
              "QLsrOWIiIo488siYOnVqW88CAFC0kiNmxYoVcf3118eGDRtafaP1hg0b2nQwAIC9KTliLr300pg2\n",
              "bVqcdNJJ0alTp3LMBADwiUqOmE6dOsWUKVPKMQsAQNFK/oh1XV1dvPzyy+WYBQCgaEUfifng26t3\n",
              "7twZ8+bNi/79+0fXrl1bHvct1gBAeyo6Ynx7NQBQSYqOmNNPP72ccwAAlKTkC3vr6+vj1ltvjVdf\n",
              "fbXVR6yfeeaZNh0MAGBvSo6YCy+8MM4888yYNm2aj1gDALkpOWJ27NgRs2fPLscsAABFK/kj1oMH\n",
              "D46GhoZyzAIAULSSj8S89dZbMWzYsDjppJNafcR64cKFbToYAMDelBwxEyZMiAkTJpRjFgCAon2q\n",
              "706KiGhqaoqqqqo2HwgAoBglXxOzevXqGDx4cPTr1y8iIv785z/HjBkz2nwwAIC9KTlivvvd78bc\n",
              "uXOjR48eERFx3HHHxeOPP97mgwEA7E3JEfPee+/FKaec0nK/UChEly5d2nQoAIBPUnLEdO7cOXbu\n",
              "3BmFQiEiIl577TV/9A4AaHclR8y0adNi/Pjx8dZbb8UNN9wQp556qmtiAIB296k+Yt23b99YvHhx\n",
              "vP/++3Hfffe1Or0EANAeSoqY3bt3x5AhQ2Lt2rVx8sknl2smAIBPVNLppE6dOkWPHj3iP//5T7nm\n",
              "AQAoSsmnk/r37x91dXVxwQUXxAEHHNCy/YorrmjTwQAA9qbkiGlubo7a2tpYt25dy7YPPqkEANBe\n",
              "So6Y+fPnl2MOAICSlBwxEREvvPBCvPrqq7Fr166WbZdcckmbDQUA8ElKjpipU6fGH/7wh6itrW35\n",
              "I3eFQkHEAADtquSIWbJkSaxduza6du1ajnkAAIpS8l/s7dWrV1RVVZVjFgCAohV9JObRRx+NiIgT\n",
              "Tzwxzj///Pja177W6mjMeeed1/bTAQB8jKIj5vbbb291/6677mr5d6FQEDEAQLsqOmKWLl1azjkA\n",
              "AEryqT5ivXPnzti4cWPs2LGjZdvQoUPbbCgAgE9ScsQ89thjMWnSpNi6dWt84QtfiK1bt0Z1dXVs\n",
              "3LixHPMBAHykkj+ddOONN8by5ctj0KBB8fbbb8eCBQvi/PPPL8dsAAAfq+QjMfvtt19UV1e3/LXe\n",
              "CRMm7HHRbyXZ+ofb4/9edkfeYwBAhzLwf3bnPULpEbP//vtHRETv3r3jkUceiZqamti6dWubDwYA\n",
              "sDdFn06aPHlyRERceeWV8cgjj8SsWbNixowZMWbMmJg1a1bZBgQA+ChFH4l5+eWXIyLi4osvjuOO\n",
              "Oy5WrFgR69atK9tgAAB7U/KFvRERWZa19RwAACUp+kjM9u3bY/Xq1ZFlWezYsaPl3x/wd2IAgPZU\n",
              "UsR8+KsFPvzvQqEQGzZsaNvJAAD2ouiIqa+vL+MYAACl+VTXxAAA5E3EAABJEjEAQJJEDACQJBED\n",
              "ACRJxAAASRIxAECSRAwAkCQRAwAkScQAAEkSMQBAkioiYq644oqoqamJQqEQq1at2uPx+fPnR6FQ\n",
              "iEWLFrX7bABAZaqIiDn//PPj+eefj+rq6j0eq6+vj3nz5sXIkSNzmAwAqFQVETGnnXZa9O7de4/t\n",
              "zc3NMXHixLjzzjujqqoqh8kAgErVOe8B9mbOnDlRV1cXw4cPL2r/pqamaGpqarVtd3M5JgMA8lYR\n",
              "R2I+ypo1a+Lhhx+OG264oeifmT17dnTv3r3V7ZX/V8YhAYDcVGzELFu2LOrr62PAgAFRU1MTy5cv\n",
              "j8mTJ8ddd931sT9z3XXXxbZt21rdhv6fdhwaAGg3FXs6aerUqTF16tSW+6NGjYqrrroqxo8f/7E/\n",
              "U1VVtce1M50qNtMAgM+iIt7ip0yZEr17945//OMfcfbZZ0f//v3zHgkAqHCFLMuyvIcop28cU4jr\n",
              "TqiIVgOADmPg/+zOe4TKOBIDAFAqEQMAJEnEAABJEjEAQJJEDACQJBEDACRJxAAASRIxAECSRAwA\n",
              "kCQRAwAkScQAAEkSMQBAkkQMAJAkEQMAJEnEAABJEjEAQJJEDACQJBEDACSpc94DlNvBZ38vBs6Z\n",
              "k/cYAEAbcyQGAEiSiAEAkiRiAIAkiRgAIEkiBgBIkogBAJIkYgCAJIkYACBJIgYASJKIAQCSJGIA\n",
              "gCSJGAAgSSIGAEiSiAEAkiRiAIAkiRgAIEkiBgBIkogBAJIkYgCAJIkYACBJIgYASJKIAQCSJGIA\n",
              "gCSJGAAgSSIGAEiSiAEAkiRiAIAkiRgAIEkiBgBIkogBAJIkYgCAJIkYACBJIgYASJKIAQCSJGIA\n",
              "gCSJGAAgSSIGAEiSiAEAkiRiAIAkiRgAIEkiBgBIkogBAJIkYgCAJIkYACBJIgYASFIhy7Is7yHK\n",
              "6YCzT4iDLjoz7zEAoEP5xzduyXsER2IAgDSJGAAgSSIGAEiSiAEAkiRiAIAkiRgAIEkiBgBIkogB\n",
              "AJIkYgCAJIkYACBJIgYASJKIAQCSJGIAgCSJGAAgSSIGAEiSiAEAkiRiAIAkiRgAIEkVFTHbt2+P\n",
              "o48+Ompra1ttv/fee2PAgAHRr1+/mDRpUuzcuTOfAQGAilFREXPttddGXV1dq20bN26MG2+8MZYt\n",
              "Wxbr16+PLVu2xD333JPThABApaiYiFmyZEls3rw5vv71r7fa/tBDD8V5550XPXv2jEKhEJdffnnc\n",
              "f//9OU0JAFSKznkPEBHxzjvvxIwZM+Kpp56KtWvXtnqsoaEhqqurW+7X1NREQ0PDRz5PU1NTNDU1\n",
              "td64O2vzeQGA/FXEkZhp06bF9ddfH4cddthnep7Zs2dH9+7dW93e3/hGG00JAFSSdomYBQsWRG1t\n",
              "bdTW1sb8+fP3ePz555+Pq6++OmpqauKiiy6KtWvXxpe+9KWIiOjTp09s2rSpZd/6+vro06fPR77O\n",
              "ddddF9u2bWt163Jkr/L8UgBArgpZllXU+ZZnn302rrrqqli1alVERGzYsCFOOeWUWLFiRRx++OEx\n",
              "bty4GDNmTEybNq2o5zvg7BPioIvOLOPEALDv+cc3bsl7hMo4nbQ3ffv2jZkzZ0ZdXV30798/evTo\n",
              "EVOmTMl7LAAgZxV3JKatORIDAG3PkRgAgE9JxAAASRIxAECSRAwAkCQRAwAkScQAAEkSMQBAkkQM\n",
              "AJAkEQMAJEnEAABJEjEAQJJEDACQJBEDACRJxAAASRIxAECSRAwAkCQRAwAkScQAAEnqnPcA5Tb5\n",
              "mFNjzjduyXsMAKCNORIDACRJxAAASRIxAECSRAwAkCQRAwAkScQAAEkSMQBAkkQMAJAkEQMAJEnE\n",
              "AABJEjEAQJJEDACQJBEDACRJxAAASRIxAECSRAwAkCQRAwAkScQAAEkSMQBAkkQMAJAkEQMAJEnE\n",
              "AABJ6pz3AOXU1NQUTz75ZOzevTs6deqU9zj7jN27d8eLL74YI0aMsO7tzNrnw7rnx9rnoz3Wvbq6\n",
              "Oq688sq97lPIsiwry6tXgMbGxujevXts27YtunXrlvc4+wzrnh9rnw/rnh9rn49KWXenkwCAJIkY\n",
              "ACBJIgYASFKHjpiqqqq46aaboqqqKu9R9inWPT/WPh/WPT/WPh+Vsu4d+sJeAKDj6tBHYgCAjkvE\n",
              "AABJEjEAQJI6RMSsW7cuTj755Bg4cGCccMIJ8de//vUj97v33ntjwIAB0a9fv5g0aVLs3LmznSft\n",
              "WIpZ92eeeSZGjBgRRx99dBxzzDExY8aMaG5uzmHajqXY/+YjIrIsizPOOCMOOuig9huwgyp23Vev\n",
              "Xh2jRo2KQYMGxaBBg2LhwoXtPGnHU8zaNzc3x/Tp0+Poo4+OoUOHxujRo2P9+vU5TNtxXHHFFVFT\n",
              "UxOFQiFWrVr1sfvl9v6adQCjR4/O5s+fn2VZlj344IPZ8ccfv8c+GzZsyHr16pW98cYbWXNzc3bu\n",
              "uedmv/rVr9p50o6lmHVfsWJF9uqrr2ZZlmXbt2/P6urqWn6GT6+Ytf/Az3/+82zixIlZ9+7d22e4\n",
              "DqyYdf/3v/+dHXnkkdmyZcuyLMuyXbt2Zf/85z/bc8wOqZi1f+SRR7IRI0Zk77//fpZlWfaTn/wk\n",
              "u+CCC9pzzA7nueeey1577bWsuro6W7ly5Ufuk+f7a/IRs2XLluzAAw/Mdu7cmWVZljU3N2eHH354\n",
              "tm7dulb73XbbbdmUKVNa7j/++ONZXV1du87akRS77v/bd77zneymm25qhwk7rlLWfs2aNdmpp56a\n",
              "rV+/XsR8RsWu+7x587KLL744jxE7rGLXftGiRdmwYcOyxsbGrLm5Obvmmmuy733ve3mM3OHsLWLy\n",
              "fH9N/nTSa6+9Fr169YrOnf/7XZaFQiH69OkTDQ0NrfZraGiI6urqlvs1NTV77EPxil33D3vzzTfj\n",
              "oYceinPOOae9xuyQil37nTt3xqRJk+Luu+/2xXhtoNh1X7t2bVRVVcU555wTtbW1cckll8Rbb72V\n",
              "x8gdRrFrf+6558aoUaOiZ8+e0atXr3j66afjxz/+cR4j71PyfH9NPmJIQ2NjY5x77rkxY8aMOP74\n",
              "4/MeZ58wc+bM+MpXvhKDBg3Ke5R9yq5du2LJkiVx9913x8qVK+OII46IqVOn5j3WPuHll1+ONWvW\n",
              "xObNm+P111+PM888My6//PK8x6KMko+YL37xi/HGG2/Erl27IuK/FzE2NDREnz59Wu3Xp0+f2LRp\n",
              "U8v9+vr6PfaheMWue0TEu+++G2PHjo1x48bF9OnT23vUDqfYtX/uuefizjvvjJqamjjllFOisbEx\n",
              "ampqHBX4lEr5f83o0aPjiCOOiEKhEBMmTIjly5fnMXKHUezaL1iwoOUi9v322y8uvfTSWLp0aR4j\n",
              "71PyfH9NPmIOO+ywOO644+K+++6LiIiHH344evfuHf3792+131e/+tV49NFH480334wsy2Lu3Llx\n",
              "0UUX5TFyh1Dsur/33nsxduzYGDt2bNxwww15jNrhFLv2y5Yti02bNkV9fX08//zz0a1bt6ivr48e\n",
              "PXrkMXbyil33Cy+8MF566aVobGyMiIgnnngihg0b1u7zdiTFrn3fvn3jmWeeiffffz8iIh577LEY\n",
              "PHhwu8+7r8n1/bVdrrwps7/97W/ZyJEjswEDBmTDhw/PXnnllSzLsuxb3/pWtnjx4pb97rnnnqxv\n",
              "375Z3759s29+85stV7Dz6RSz7rNmzco6d+6cDRs2rOU2a9asPMfuEIr9b/4DGzdudGFvGyh23Rcs\n",
              "WJAdc8wx2ZAhQ7KxY8dmDQ0NeY3cYRSz9jt27MgmTpyYHXXUUdmQIUOys846q+XTkXw6kydPzo44\n",
              "4oisU6dO2WGHHZb169cvy7LKeX/13UkAQJKSP50EAOybRAwAkCQRAwAkScQAAEkSMQBAkkQMAJAk\n",
              "EQMAJEnEAABJEjEAQJJEDACQJBEDACTp/wOWx6UeECHsWwAAAABJRU5ErkJggg==\n",
              "\">\n",
              "      </div>\n",
              "      <script type=\"text/javascript\">\n",
              "        (() => {\n",
              "          const chartElement = document.getElementById(\"chart-a6602e56-b961-4066-87ee-74c085d3c16f\");\n",
              "          async function getCodeForChartHandler(event) {\n",
              "            const chartCodeResponse =  await google.colab.kernel.invokeFunction(\n",
              "                'getCodeForChart', [\"chart-a6602e56-b961-4066-87ee-74c085d3c16f\"], {});\n",
              "            const responseJson = chartCodeResponse.data['application/json'];\n",
              "            await google.colab.notebook.addCell(responseJson.code, 'code');\n",
              "          }\n",
              "          chartElement.onclick = getCodeForChartHandler;\n",
              "        })();\n",
              "      </script>\n",
              "      <style>\n",
              "        .colab-quickchart-chart-with-code  {\n",
              "            display: block;\n",
              "            float: left;\n",
              "            border: 1px solid transparent;\n",
              "        }\n",
              "\n",
              "        .colab-quickchart-chart-with-code:hover {\n",
              "            cursor: pointer;\n",
              "            border: 1px solid #aaa;\n",
              "        }\n",
              "      </style>"
            ]
          },
          "metadata": {}
        },
        {
          "output_type": "display_data",
          "data": {
            "text/plain": [
              "<google.colab._quickchart_helpers.SectionTitle at 0x7f560e384af0>"
            ],
            "text/html": [
              "<h4 class=\"colab-quickchart-section-title\">2-d categorical distributions</h4>\n",
              "<style>\n",
              "  .colab-quickchart-section-title {\n",
              "      clear: both;\n",
              "  }\n",
              "</style>"
            ]
          },
          "metadata": {}
        },
        {
          "output_type": "display_data",
          "data": {
            "text/plain": [
              "from matplotlib import pyplot as plt\n",
              "import seaborn as sns\n",
              "import pandas as pd\n",
              "plt.subplots(figsize=(8, 8))\n",
              "df_2dhist = pd.DataFrame({\n",
              "    x_label: grp['Fahrenheit'].value_counts()\n",
              "    for x_label, grp in _df_2.groupby('Celsius')\n",
              "})\n",
              "sns.heatmap(df_2dhist, cmap='viridis')\n",
              "plt.xlabel('Celsius')\n",
              "_ = plt.ylabel('Fahrenheit')"
            ],
            "text/html": [
              "      <div class=\"colab-quickchart-chart-with-code\" id=\"chart-e827692d-2fdc-472d-a96c-94c22dd36f3c\">\n",
              "        <img style=\"width: 180px;\" src=\"data:image/png;base64,iVBORw0KGgoAAAANSUhEUgAAAooAAAKfCAYAAADpb+mkAAAAOXRFWHRTb2Z0d2FyZQBNYXRwbG90\n",
              "bGliIHZlcnNpb24zLjcuMSwgaHR0cHM6Ly9tYXRwbG90bGliLm9yZy/bCgiHAAAACXBIWXMAAA9h\n",
              "AAAPYQGoP6dpAAA4pklEQVR4nO3df7hVdZ03/PcG4mjeQjqJUqcDwcFIMQGHGkUB01HMRAtTmrBB\n",
              "QY5Zt86Y6Y3mCJMj1v2kcV39QEYy0yf8XXE5d+VtP+6BapoMMW9/JKBw0FFRMVCTI3D284dX55kz\n",
              "LOUcWYcN29era12Xe6219/qevavr4/uzvt9VqVar1QAAwH/Rq9YDAABg16RQBACgkEIRAIBCCkUA\n",
              "AAopFAEAKKRQBACgkEIRAIBCCkUAAAopFAEAKKRQBACokfPOOy+DBw9OpVLJ8uXLC89ZvXp1JkyY\n",
              "kP79+2fkyJHbHF+4cGGGDRuWoUOH5uyzz87mzZu7dKwrFIoAADVy6qmnZunSpRk0aNDrntOvX79c\n",
              "ccUV+d73vrfNsccffzyXXXZZlixZkpUrV+aZZ57JggULtnusqxSKAAA1Mm7cuDQ2Nr7hOfvuu2+O\n",
              "PPLI7LXXXtscu/322zNp0qQccMABqVQqOeecc7Jo0aLtHuuqPt06GwCAN9TW1pa2trZO+xoaGtLQ\n",
              "0FD6tVpbWzulkYMHD05ra+t2j3WVQpFdzpB5V9d6COxEj51/Qa2HANSh9qcPrNm1587/m8yZM6fT\n",
              "vssvvzyzZ8+uzYB2gEIRAKBEs2bNygUXdP6X4J5IE5Okqakpq1at6ni9evXqNDU1bfdYV7lHEQCo\n",
              "O+01/E9DQ0P69evXaeupQnHy5MlZvHhxnn766VSr1cyfPz9TpkzZ7rGuUigCANRIS0tLGhsb88QT\n",
              "T+T4449Pc3NzkmTGjBlZvHhxkuRPf/pTGhsb84lPfCIPPfRQGhsbM2vWrCTJkCFDMmfOnIwdOzbN\n",
              "zc3Zb7/90tLSst1jXVWpVqvVEv9e2GHuUXxrcY8i0BO2PN1cs2v3OWBlza5dNvcoAgB1Z2u1vWbX\n",
              "rqfiSusZAIBC9VT0AgAkSdrjzroySBQBACikUAQAoJDWMwBQd9pTu8ks9USiCABAIYkiAFB3tlom\n",
              "uhQSRQAACkkUAYC6Y3mcckgUAQAopFAEAKCQ1jMAUHe2aj2XQqIIAEAhiSIAUHdMZimHRBEAgEIK\n",
              "RQAACmk9AwB1x5NZyiFRBACgkEQRAKg77bUeQJ2QKAIAUEiiCADUHQtul0OiCABAIYUiAACFtJ4B\n",
              "gLqzVee5FBJFAAAKSRQBgLpjeZxySBQBACikUAQAoJDWMwBQd7amUush1AWJIgAAhSSKAEDdabc8\n",
              "TikkigAAFJIoAgB1xz2K5ZAoAgBQSKEIAEAhrWcAoO5oPZdDoggAQCGJIgBQd9qrEsUySBQBACik\n",
              "UAQAoJDWMwBQd0xmKYdEEQCAQhJFAKDubJWFlcK3CABAIYkiAFB3LI9TDokiAACFFIoAABTSegYA\n",
              "6o7lccohUQQAoJBEEQCoO1ursrAy+BYBACikUAQAoJDWMwBQd9plYaXwLQIAUEiiCADUHcvjlEOi\n",
              "CABAIYkiAFB3LI9TDt8iAACFFIoAABTSegYA6k67ySylkCgCAFBIoggA1J2tsrBSlP4tbt26Nd/6\n",
              "1rcybty4DB48OIMHD864cePyzW9+M1u3bi37cgAA9JDSE8Vzzz03Tz/9dGbNmpXBgwcnSVavXp35\n",
              "8+dn+fLlWbBgQdmXBACgB5ReKP7sZz/LihUrOu17//vfn4kTJ+bAAw8s+3IAANuwjmI5Sv8WK5VK\n",
              "nn322W32P/vss6lWq2VfDgCAHlJ6onjxxRdn5MiROfnkkzNo0KAkyZo1a7J48eLMmTOn7MsBAGyj\n",
              "3WSWUpT+LU6fPj2//OUvM2TIkDz55JN58sknM2TIkCxZsiTTp08v+3IAALut8847L4MHD06lUsny\n",
              "5ctf97yFCxdm2LBhGTp0aM4+++xs3rw5SXL99ddn5MiRHds73/nOfPzjH0/y2hyR3r17dzq+atWq\n",
              "bo2vR5bHGTx4cC688MKe+GgAgO3aWt09Ftw+9dRTc9FFF+XII4983XMef/zxXHbZZVm2bFn233//\n",
              "nHzyyVmwYEE++9nP5swzz8yZZ57Zce6IESPyqU99quP13nvv/YYF6PbslFz2/e9//864DADAbmXc\n",
              "uHFpbGx8w3Nuv/32TJo0KQcccEAqlUrOOeecLFq0aJvzfvOb32TdunWZNGlSaeMrPVEcPXr0Nvse\n",
              "e+yxjv3Lli17w/e3tbWlra2t076GhoY0NDSUN0gAgB5Sdi3T2traMe8jea1z29raus15CxcuzBln\n",
              "nJG3ve1tHftefvnljBkzJlu3bs0pp5ySSy+9NL179+7ytUtPFDdt2pQxY8bkmmuuyTXXXJOrr746\n",
              "++67b8fr7Zk7d2769+/faZs7d27ZwwQA6tjW9KrZVota5uWXX87NN9/caT7IwIED8+STT+a3v/1t\n",
              "7rnnnixZsiRf/epXu/W5pReKy5Ytyx577JGvf/3rGTFiRCZMmJA999wz48ePz/jx47f7/lmzZmXD\n",
              "hg2dtlmzZpU9TACAHlF2LdPU1JQ1a9Z0vF69enWampo6nXPbbbfl4IMPzkEHHdSxr6GhIQMGDEiS\n",
              "7LvvvjnrrLOyZMmSbl279NbzHnvskXnz5uWee+7J8ccfn0suuaRb79dmBgB2VHsNF9wuu5aZPHly\n",
              "jjzyyMyePTv7779/5s+fnylTpnQ6Z+HChdusLrNu3brss88+edvb3pa2trbceeedGTVqVLeu3WPf\n",
              "4rHHHpuf/vSn+f73v2+hbQCAAi0tLWlsbMwTTzyR448/Ps3NzUmSGTNmZPHixUmSIUOGZM6cORk7\n",
              "dmyam5uz3377paWlpeMz/vCHP2T58uU5/fTTO3320qVLM2rUqBx66KEZPXp0DjjggFx66aXdGl+l\n",
              "qopjFzNk3tW1HgI70WPnX1DrIQB16JaVY2p27dObf1uza5etR9ZRBACopa2ezFIK3yIAAIUkigBA\n",
              "3dldnsyyq9spieINN9ywMy4DAECJdkqhOG/evJ1xGQAASrRTWs8mVgMAO1O7aRil2Cnf4gUXWP4C\n",
              "AGB3s1MSxTPOOGNnXAYAIEmytYZPZqknvkUAAApZHgcAqDvtsTxOGSSKAAAUUigCAFBI6xkAqDsm\n",
              "s5TDtwgAQCGJIgBQd7bKwkrhWwQAoJBCEQCAQlrPAEDdaa9aR7EMEkUAAApJFAGAumMySzl8iwAA\n",
              "FJIoAgB1p92C26XwLQIAUEihCABAIa1nAKDubI3lccogUQQAoJBEEQCoOyazlMO3CABAIYUiAACF\n",
              "tJ4BgLpjMks5JIoAABSSKAIAdcdklnL4FgEAKCRRBADqzlaJYil8iwAAFFIoAgBQSOsZAKg77ZbH\n",
              "KYVEEQCAQhJFAKDumMxSDt8iAACFFIoAABTSegYA6k571WSWMkgUAQAoJFEEAOrOVllYKXyLAAAU\n",
              "kigCAHXHPYrlkCgCAFBIoQgAQCGtZwCg7rTLwkrhWwQAoJBEEQCoO1tNZimFRBEAgEIKRQAACmk9\n",
              "AwB1xzqK5ZAoAgBQSKIIANSd9qosrAy+RQAACkkUAYC6szXuUSyDRBEAgEIKRQAACmk9AwB1x/I4\n",
              "5ZAoAgBQSKIIANQdy+OUw7cIAEAhhSIAAIW0ngGAutNuHcVSSBQBACgkUQQA6s5Wy+OUQqIIAFAj\n",
              "5513XgYPHpxKpZLly5e/7nkLFy7MsGHDMnTo0Jx99tnZvHlzkuQXv/hF9txzz4wcObJje+WVV7b7\n",
              "vq5SKAIAdae92qtmW3eceuqpWbp0aQYNGvS65zz++OO57LLLsmTJkqxcuTLPPPNMFixY0HH8fe97\n",
              "X5YvX96x7bnnnl16X1coFAEAamTcuHFpbGx8w3Nuv/32TJo0KQcccEAqlUrOOeecLFq0aLuf/Wbf\n",
              "958pFAEAStTW1paNGzd22tra2t7057W2tnZKHAcPHpzW1taO16tWrcro0aMzZsyYfPOb3+zy+7pi\n",
              "t5jMMmTe1bUeAjvRY+dfUOshALCbq+WznufOnZs5c+Z02nf55Zdn9uzZpV9r9OjReeKJJ9K/f/88\n",
              "8cQT+chHPpJ3vvOdOe2000r5fIkiAECJZs2alQ0bNnTaZs2a9aY/r6mpKWvWrOl4vXr16jQ1NSVJ\n",
              "+vXrl/79+ydJGhsb88lPfjJLlizZ7vu6SqEIANSd9lRqtjU0NKRfv36dtoaGhjf9t0yePDmLFy/O\n",
              "008/nWq1mvnz52fKlClJkqeeeirt7e1JkhdffDF33XVXRo0atd33dZVCEQCgRlpaWtLY2Jgnnngi\n",
              "xx9/fJqbm5MkM2bMyOLFi5MkQ4YMyZw5czJ27Ng0Nzdnv/32S0tLS5LkjjvuyCGHHJJDDz00f/VX\n",
              "f5W//uu/zplnnrnd93VVpVqtVkv8e3uEexTfWtyjCMCO+tRvzq7Ztf/fD/1zza5dtt1iMgsAQHfU\n",
              "cjJLPdF6BgCgkEQRAKg73X1CCsV8iwAAFFIoAgBQSOsZAKg7JrOUQ6IIAEAhiSIAUHfaI1Esg0QR\n",
              "AIBCEkUAoO64R7EcEkUAAAopFAEAKKT1DADUHa3nckgUAQAoJFEEAOqORLEcEkUAAAopFAEAKKT1\n",
              "DADUHa3nckgUAQAoJFEEAOqOZz2XQ6IIAEAhiSIAUHfco1gOiSIAAIUUigAAFNJ6BgDqjtZzOSSK\n",
              "AAAUkigCAHVHolgOiSIAAIUUigAAFNJ6BgDqjtZzOSSKAAAUkigCAHWnKlEshUQRAIBCEkUAoO60\n",
              "R6JYBokiAACFFIoAABTSegYA6o7lccohUQQAoJBEEQCoO5bHKYdEEQCAQgpFAAAKaT0DAHXHZJZy\n",
              "SBQBACgkUQQA6o7JLOWQKAIAUEiiCADUHfcolkOiCABAIYUiAACFtJ4BgLpTrdZ6BPVBoggAQCGJ\n",
              "IgBQd9pjMksZJIoAABRSKAIAUEjrGQCoO57MUg6JIgAAhSSKAEDd8WSWckgUAQAoJFEEAOqOBbfL\n",
              "IVEEAKCQQhEAgEJazwBA3bE8TjkkigAAFJIoAgB1R6JYDokiAACFFIoAABTSegYA6o4ns5RDoggA\n",
              "QCGJIgBQdzyZpRw7NVG89tprd+blAAB2aeedd14GDx6cSqWS5cuXv+55CxcuzLBhwzJ06NCcffbZ\n",
              "2bx5c5LkZz/7WT74wQ/moIMOysEHH5yLLroo7e3tSZLVq1end+/eGTlyZMe2atWqbo2vxxLFxYsX\n",
              "b7Pv8ssvz8CBA5MkkyZN6qlLAwBvcbvL8jinnnpqLrroohx55JGve87jjz+eyy67LMuWLcv++++f\n",
              "k08+OQsWLMhnP/vZ7LPPPrn55pszZMiQbNq0Kccee2y++93vZtq0aUmSvffe+w0L0O3psULxlFNO\n",
              "yeGHH56+fft27NuwYUOuueaaVCoVhSIA8JY3bty47Z5z++23Z9KkSTnggAOSJOecc06uvPLKfPaz\n",
              "n82oUaM6zttjjz0ycuTIrF69urTx9VihuHDhwlx33XW5+uqrO/6I9773vfn5z3/+hu9ra2tLW1tb\n",
              "p33VLVtS6eN2SgBg11dUyzQ0NKShoeFNfV5ra2sGDRrU8Xrw4MFpbW3d5rynn346t99+e+66666O\n",
              "fS+//HLGjBmTrVu35pRTTsmll16a3r17d/naPXaP4plnnpnvfe97ueiii/KP//iP2bp1ayqV7cfA\n",
              "c+fOTf/+/Tttf/zfP+2pYQIAdahardRsK6pl5s6d26N/78aNG3PSSSfloosuyl/+5V8mSQYOHJgn\n",
              "n3wyv/3tb3PPPfdkyZIl+epXv9qtz+3RySyDBg3K3Xffnb322itHHXXUNtV1kVmzZmXDhg2dtnf8\n",
              "9TE9OUwAgNIU1TKzZs1605/X1NSUNWvWdLxevXp1mpqaOl6/+OKLmThxYk4++eRccMEFHfsbGhoy\n",
              "YMCAJMm+++6bs846K0uWLOnWtXu8n1upVPL5z38+EydO7NLgiqJZbWcAoDtquTrOjrSZi0yePDlH\n",
              "HnlkZs+enf333z/z58/PlClTkiQvvfRSJk6cmIkTJ+aLX/xip/etW7cu++yzT972trelra0td955\n",
              "Z6d7Grtipy2Pc/DBB+ecc85Jkhx44IE767IAALuslpaWNDY25oknnsjxxx+f5ubmJMmMGTM6VpAZ\n",
              "MmRI5syZk7Fjx6a5uTn77bdfWlpakiTz5s3Lv//7v+fOO+/sWALnn/7pn5IkS5cuzahRo3LooYdm\n",
              "9OjROeCAA3LppZd2a3yVarVnlqT8/e9//7rHjj/++Dz11FNd/qwh864uY0jsJh47/4LtnwQAb+B9\n",
              "d/5jza79h4//Q82uXbYe6+mOHDkygwcPTlEd+vzzz/fUZQEAdpt1FHd1PVYoDho0KEuXLs273vWu\n",
              "bY695z3v6anLAgBQkh67R3HSpEl57LHHCo+deOKJPXVZAIDXZrPUaqsjPZYozps373WPzZ8/v6cu\n",
              "CwBASXbarGcAAHYvFigEAOqOySzlkCgCAFBIoggA1J2eWSX6rUeiCABAIYkiAFB33KNYDokiAACF\n",
              "FIoAABTSegYA6o/WcykkigAAFJIoAgB1x/I45ZAoAgBQSKEIAEAhrWcAoP5oPZdCoggAQCGJIgBQ\n",
              "dzyZpRwSRQAACkkUAYD64x7FUkgUAQAopFAEAKCQ1jMAUHdMZimHRBEAgEISRQCg/pjMUgqJIgAA\n",
              "hRSKAAAU0noGAOqQySxlkCgCAFBIoggA1B+TWUohUQQAoJBEEQCoPxLFUkgUAQAopFAEAKCQ1jMA\n",
              "UH8867kUEkUAAApJFAGAulM1maUUEkUAAAopFAEAKKT1DADUH63nUkgUAQAoJFEEAOqP5XFKIVEE\n",
              "AKCQRBEAqDsV9yiWotuJ4gc/+MEu7QMAYPfW7UJxy5Yt27x+8cUXSxsQAAC7hi4Xil/+8pezzz77\n",
              "5IEHHsi+++7bse29994ZN25cT44RAKB7qjXc6kiX71E855xzcvrpp+czn/lM5s+f37G/X79+2Wef\n",
              "fXpkcAAA1E6XC8X+/funf//++dGPftST4wEA2HGWxylFlwvFT37yk1m0aFFGjRqVSmXbL3/ZsmWl\n",
              "DgwAgNrqcqF44YUXJkm+9rWv9dRYAADYhXS5UDzssMOSJOPHj8/mzZvT2tqaoUOH9tjAAADetDqb\n",
              "VFIr3V4e5xe/+EUGDRqUo48+Okny29/+NlOnTi19YAAA1Fa3C8X/8T/+R5YsWZK/+Iu/SJKMGTMm\n",
              "9913X+kDAwB40yyPU4puF4pbt27dpuXct2/f0gYEAMCuodvPet5jjz3y0ksvdcx8fuCBB7LnnnuW\n",
              "PjAAgDetzpK9Wul2oXjZZZfluOOOy5NPPpmpU6fmnnvuyfe+972eGBsAADXU7ULxuOOOy7Bhw/Lj\n",
              "H/841Wo1c+bMMfsZAKAOdbtQTJL3vve9+cxnPlP2WAAAyuHJLKXodqG4bNmyXHLJJXnssceyZcuW\n",
              "jv2PPfZYqQMDAKC2ul0o/u3f/m0+97nP5fDDD0/v3r17YkwAADukYjJLKbpdKPbu3TstLS09MRYA\n",
              "AHYh3V5HcezYsbn33nt7YiwAAOxCupwojho1KpVKJZs3b84///M/p7m5OXvssUfH8WXLlvXIAAEA\n",
              "uk3ruRRdLhS/9rWv9eAwAADY1XS5UBw/fnxPjgMAgF1Mt+9RXL16dT7zmc/kuOOOy4c//OGODQCA\n",
              "7jnvvPMyePDgVCqVLF++/HXPW7hwYYYNG5ahQ4fm7LPPzubNm3f4WFd0u1A87bTT8o53vCOf+9zn\n",
              "8vnPf75jAwDYVVSqtdu649RTT83SpUszaNCg1z3n8ccfz2WXXZYlS5Zk5cqVeeaZZ7JgwYIdOtZV\n",
              "3S4UN23alLlz52bSpEk58cQTOzYAALpn3LhxaWxsfMNzbr/99kyaNCkHHHBAKpVKzjnnnCxatGiH\n",
              "jnVVt9dRHDFiRFpbW9PU1NTdtwIA1L22tra0tbV12tfQ0JCGhoY39Xmtra2dEsfBgwentbV1h451\n",
              "VbcLxWeffTaHHnpoDj/88E7L49x5553d/ague+z8C3rss4HaGjLv6loPgZ3I/5+z09TwWc9z587N\n",
              "nDlzOu27/PLLM3v27NoMaAd0u1CcOnVqpk6d2hNjAQDY7c2aNSsXXND5X4rebJqYJE1NTVm1alXH\n",
              "69WrV3d0dt/ssa56U896Tl6LVXfkjwYA6DE1XHB7R9rMRSZPnpwjjzwys2fPzv7775/58+dnypQp\n",
              "O3Ssq7o9meWBBx7IiBEjMnTo0CTJ7373u1x00UXd/RgAgLe8lpaWNDY25oknnsjxxx+f5ubmJMmM\n",
              "GTOyePHiJMmQIUMyZ86cjB07Ns3Nzdlvv/3S0tKyQ8e6qlKtVrtVc0+YMCFXXHFF/vt//++57777\n",
              "Uq1WM2LEiDz44IPdujBA4h7Ftxr3KLKzDPla7f6/5bG/q5//nne79fzSSy/lyCOP7HhdqVTSt2/f\n",
              "UgcFALBDPOu5FN1uPffp0yebN29OpfLabKK1a9emd+/epQ8MAIDa6nah+LnPfS6nnHJKnn322Xzx\n",
              "i1/MUUcd5R5FAGCXsrs8mWVX96aWxxkyZEh++MMf5tVXX81NN93UqRUNAEB96FahuHXr1hxyyCF5\n",
              "6KGHcsQRR/TUmAAA2AV0q/Xcu3fv7LfffvnTn/7UU+MBANhx1RpudaTbrefm5uaMHTs2n/jEJ/Lf\n",
              "/tt/69h/3nnnlTowAABqq9uFYnt7e0aOHJkVK1Z07PvzDGgAgF1CnSV7tdLtQvH666/viXEAALCL\n",
              "6XahmCS/+c1vsmrVqmzZsqVj36c//enSBgUAsCPqbZmaWul2ofiZz3wmP/nJTzJy5MiOhbYrlYpC\n",
              "EQCgznS7ULznnnvy0EMPZY899uiJ8QAAsIvodqE4cODANDQ09MRYAADKUTXRtgxdLhQXL16cJPnQ\n",
              "hz6UU089NaeffnqnVHHSpEnljw4AgJrpcqF4zTXXdHr9rW99q+OfK5WKQhEA2HWYzFKKLheKP//5\n",
              "z3tyHAAA7GLe1PI4mzdvzuOPP55NmzZ17PvABz5Q2qAAAKi9bheKd911V84+++y88MIL2WuvvfLC\n",
              "Cy9k0KBBefzxx3tifAAA3WYdxXL06u4bLrvssvzbv/1b3v/+9+f555/Pd7/73Zx66qk9MTYAAGqo\n",
              "24Vir169MmjQoI6nskydOjU/+9nPSh8YAMCbVq3hVke63Xp+29veliRpbGzM97///QwePDgvvPBC\n",
              "6QMDAKC2ulwozpw5MwsWLMj555+f73//+7niiisyZcqU/PGPf8y8efN6cowAAN3iHsVydLlQvPfe\n",
              "e5Mkn/zkJzN69OgsW7YsK1as6LGBAQBQW92+RzFJqlVlOgBAvetyovjKK6/kgQceSLVazaZNmzr+\n",
              "+c+sowgA7DJkWqXoVqH4nx/T95//uVKp5LHHHit3ZAAA1FSXC8XVq1f34DAAAEokUSzFm7pHEQCA\n",
              "+qdQBACgULcX3AYA2NVZR7EcEkUAAAopFAEAKKRQBACgkHsUAYD64x7FUkgUAQAopFAEAKCQ1jMA\n",
              "UHcsj1MOiSIAAIUkigBA/ZEolkKiCABAIYUiAACFtJ4BgPqj9VwKiSIAAIUkigBA3bE8TjkkigAA\n",
              "FJIoAgD1R6JYCokiAACFFIoAABTSegYA6o7JLOWQKAIAUEiiCADUH4liKSSKAAAUUigCAFBI6xkA\n",
              "qD9az6WQKAIAUEiiCADUHcvjlEOiCABAIYkiAFB/JIqlkCgCAFBIoQgAQCGtZwCg/mg9l0KiCABA\n",
              "IYkiAFB3LI9TDokiAACFFIoAABTSegYA6o/WcykkigAAFJIoAgB1x2SWcvRIorhq1aocffTRGTJk\n",
              "SC644IJs2rSp49jhhx/eE5cEANjtrFixIkcccUQOPPDAjBkzJg8++OA257S3t+fCCy/MiBEjMnz4\n",
              "8EyfPj2vvvpqkuQnP/lJRo4c2bG9613vyujRozveW6lUcsghh3QcX7JkSbfG1yOF4rnnnptTTz01\n",
              "t912W5577rkcc8wxefHFF5OkU9EIANAjqjXcuqGlpSUzZ87Mo48+mosvvjjTpk3b5pyFCxdm2bJl\n",
              "WbZsWR5++OH06tUr8+bNS5Icf/zxWb58ecc2evTofOpTn+r0/iVLlnQcP+qoo7o1vh4pFNetW5fP\n",
              "fvazOeyww/Ld7343J554Yo455phs2LAhlUqlJy4JALBbWbduXe69995MnTo1STJ58uSsXbs2K1eu\n",
              "7HTe/fffn2OPPTZ9+/ZNpVLJCSeckBtvvHGbz/uP//iP/PSnP80ZZ5xR2hh7pFB85ZVXOr2+5JJL\n",
              "ctppp3VKFl9PW1tbNm7c2Glra2vriWECAJSuq7XM2rVrM3DgwPTp89qUkUqlkqamprS2tnY677DD\n",
              "DsvixYuzcePGbN68ObfeemtWr169zed95zvfyUc+8pEMGDCg0/5jjjkmhx56aC644IK8/PLL3fpb\n",
              "eqRQfP/7358f//jHnfZdeOGF+Zu/+ZusWrXqDd87d+7c9O/fv9M2d+7cnhgmAFCvath6LruWmTZt\n",
              "WiZOnJjx48dn/PjxOfDAAzuKy44/t1rNt7/97UyfPr3T/jVr1uR3v/tdfvWrX+XZZ5/NF77whW5d\n",
              "u1KtVkufF9TW1pZKpZK+fft27HvhhReyzz775Mknn8y73/3uN3zvf626Gxoa0tDQUPYwgV3AkHlX\n",
              "13oI7ESPnX9BrYfAW8QhF1xTs2vfO/fcLtUy69atS3Nzc9avX58+ffqkWq1m4MCBWbp0aZqbm1/3\n",
              "82+++eZ84xvf6DQx5Re/+EWmTp2aNWvWpHfv3oXv+/Wvf52ZM2fmgQce6PLf0iOJ4iOPPJIPfvCD\n",
              "GT16dB588MGceOKJefe7352mpqasX7/+Dd/b0NCQfv36ddoUiQBAd1RquHW1lhkwYEBGjx6dm266\n",
              "KUlyxx13pLGxcZsicdOmTXnhhReSJM8991yuuuqqXHTRRZ3OWbhwYaZNm9apSHzhhRfypz/9Kclr\n",
              "M6dvueWWjBo1qlvfY4+so3jeeedl9uzZ+eMf/5iPfOQjueKKK/Iv//Iv+cEPfpDPf/7zufvuu3vi\n",
              "sgAAu5Vrr70206ZNy5VXXpl+/frl+uuvT5LMmDEjkyZNyqRJk7Jhw4ZMmDAhvXr1Snt7e84///yc\n",
              "dNJJHZ+xYcOG3HnnndskhY888khaWlpSqVSyZcuWjB49umO2dFf1SOt51KhRue+++5Jkm5syR44c\n",
              "meXLl5d9SWA3pfX81qL1zM7ygRq2nn9/9d/X7Npl65FE8T/XnkcfffTrHgMA6BHKjVL0yD2K+++/\n",
              "fzZu3JgkueGGGzr2P/XUU9ljjz164pIAAJSsRxLFn/zkJ4X73/72t+e2227riUsCAHTwrOdy9Eih\n",
              "+Hr+vJYQAAC7vh5pPQMAsPvbqYkiAMBOofVcCokiAACFJIoAQP2RKJZCoggAQCGJIgBQdyyPUw6J\n",
              "IgAAhRSKAAAU0noGAOqP1nMpJIoAABSSKAIAdcdklnJIFAEAKKRQBACgkNYzAFB/tJ5LIVEEAKCQ\n",
              "RBEAqDsms5RDoggAQCGJIgBQfySKpZAoAgBQSKEIAEAhrWcAoP5oPZdCoggAQCGJIgBQdyyPUw6J\n",
              "IgAAhRSKAAAU0noGAOqP1nMpJIoAABSSKAIAdadSFSmWQaIIAEAhiSIAUH8EiqWQKAIAUEihCABA\n",
              "Ia1nAKDueDJLOSSKAAAUkigCAPVHolgKiSIAAIUUigAAFNJ6BgDqjsks5ZAoAgBQSKIIANQfiWIp\n",
              "JIoAABSSKAIAdcc9iuWQKAIAUEihCABAIa1nAKD+aD2XQqIIAEAhiSIAUHdMZimHRBEAgEIKRQAA\n",
              "Cmk9AwD1p6r3XAaJIgAAhSSKAEDdMZmlHBJFAAAKSRQBgPojUSyFRBEAgEIKRQAACmk9AwB1p9Je\n",
              "6xHUB4kiAACFJIoAQP0xmaUUEkUAAAopFAEAKKT1DADUHU9mKYdEEQCAQhJFAKD+VEWKZZAoAgDU\n",
              "yIoVK3LEEUfkwAMPzJgxY/Lggw9uc057e3suvPDCjBgxIsOHD8/06dPz6quvJklWr16d3r17Z+TI\n",
              "kR3bqlWrOt571113Zfjw4Rk2bFg+/vGPZ+PGjd0an0IRAKg7lWrttu5oaWnJzJkz8+ijj+biiy/O\n",
              "tGnTtjln4cKFWbZsWZYtW5aHH344vXr1yrx58zqO77333lm+fHnHNnTo0CTJSy+9lOnTp+cHP/hB\n",
              "VqxYkXe961350pe+1K3xKRQBAGpg3bp1uffeezN16tQkyeTJk7N27dqsXLmy03n3339/jj322PTt\n",
              "2zeVSiUnnHBCbrzxxu1+/o9+9KOMGjUqw4cPT5Kce+65WbRoUbfGqFAEAChRW1tbNm7c2Glra2vb\n",
              "5ry1a9dm4MCB6dPntSkjlUolTU1NaW1t7XTeYYcdlsWLF2fjxo3ZvHlzbr311qxevbrj+Msvv5wx\n",
              "Y8Zk9OjR+cd//Mds3bo1SdLa2ppBgwZ1nDd48OA89dRT2bJlS5f/FpNZgJp67PwLaj0EdqIh866u\n",
              "9RDYiWr6v+8azmWZO3du5syZ02nf5ZdfntmzZ7+pz5s2bVrWrFmT8ePHZ88998yxxx6bu+++O0ky\n",
              "cODAPPnkkxkwYEDWr1+f008/PV/96ldz0UUX7eifkUSiCABQqlmzZmXDhg2dtlmzZm1z3nve855O\n",
              "CV+1Wk1ra2uampo6nVepVDJ79uzcd999+dWvfpWDDjooBx98cJKkoaEhAwYMSJLsu+++Oeuss7Jk\n",
              "yZIkSVNTU9asWdPxOatXr+6UYHaFQhEAqDu1nMzS0NCQfv36ddoaGhq2GeOAAQMyevTo3HTTTUmS\n",
              "O+64I42NjWlubu503qZNm/LCCy8kSZ577rlcddVVHYnhunXrsnnz5iSvtbzvvPPOjBo1KkkyceLE\n",
              "LFu2LI888kiS5Jvf/GamTJnSre9R6xkAoEauvfbaTJs2LVdeeWX69euX66+/PkkyY8aMTJo0KZMm\n",
              "TcqGDRsyYcKE9OrVK+3t7Tn//PNz0kknJUmWLl2af/iHf0jv3r2zZcuWfPjDH86ll16a5LXZ0Ndd\n",
              "d11OOeWUbNmyJSNGjMgNN9zQrfFVqlUrUgKwc7hH8a2llvcoHvWx/6dm117y/Qtrdu2ySRQBgPoj\n",
              "ByuFexQBACgkUQQA6k53n5BCMYkiAACFFIoAABTSegYA6o/WcykkigAAFJIoAgB1x2SWckgUAQAo\n",
              "JFEEAOpPu0ixDBJFAAAKKRQBACik9QwA1B+d51JIFAEAKCRRBADqjuVxyiFRBACgkEIRAIBCWs8A\n",
              "QP2p6j2XQaIIAEAhiSIAUHdMZimHRBEAgEISRQCg/kgUSyFRBACgkEIRAIBCWs8AQN2pWB6nFBJF\n",
              "AAAKSRQBgPrTXusB1AeJIgAAhRSKAAAU0noGAOqOySzlkCgCAFBIoggA1B+BYikkigAAFJIoAgD1\n",
              "xz2KpZAoAgBQSKEIAEAhrWcAoO5UdJ5LIVEEAKCQRBEAqD8ms5RCoggAQCGFIgAAhbSeAYC6U2mv\n",
              "9Qjqg0QRAIBCEkUAoP6YzFIKiSIAAIUkigBA/REolkKiCABAIYUiAACFtJ4BgLpTMZmlFBJFAAAK\n",
              "SRQBgPojUSyFRBEAgEIKRQAACmk9AwD1x7OeSyFRBACgkEQRAKg7lscph0QRAIBCEkUAoP5IFEsh\n",
              "UQQAoJBCEQCAQlrPAED90XouxU5LFO+///6ddSkAAErQI4nixo0bt9l38skn54EHHki1Wk2/fv16\n",
              "4rIAAK+x4HYpeqRQfMc73pFKpZLqf4l9+/fvn0qlkq1bt/bEZQEAKFGPtJ4//elPZ/r06XnxxRfT\n",
              "3t6e9vb2DBo0KO3t7YpEAIDdRI8Uit/5zndywgkn5Oijj87/+T//J0lSqVR64lIAANuoVKs12+pJ\n",
              "j816/tjHPpYjjjgiM2fOzB133CFJBADYzfTo8jj7779/fvjDH2bhwoVZv359T14KAOD/V2fJXq3s\n",
              "lOVxpk+fnptuumlnXAoAYLexYsWKHHHEETnwwAMzZsyYPPjgg9uc097engsvvDAjRozI8OHDM336\n",
              "9Lz66qtJkgceeCDjxo3L8OHDM2LEiJx11ll55ZVXOt5bqVRyyCGHZOTIkRk5cmSWLFnSrfHt9Cez\n",
              "LFiwYGdfEgB4q6lWa7d1Q0tLS2bOnJlHH300F198caZNm7bNOQsXLsyyZcuybNmyPPzww+nVq1fm\n",
              "zZuXJNljjz3y9a9/PY888kjuv//+vPzyy/nyl7/c6f1LlizJ8uXLs3z58hx11FHdGt9OLxSffPLJ\n",
              "nX1JAIBdzrp163Lvvfdm6tSpSZLJkydn7dq1WblyZafz7r///hx77LHp27dvKpVKTjjhhNx4441J\n",
              "kmHDhuUDH/hAkqR3794ZM2ZMVq9eXdoYd3qhOGfOnDc83tbWlo0bN3ba2tradtLoAAB2TFdrmbVr\n",
              "12bgwIHp0+e1KSOVSiVNTU1pbW3tdN5hhx2WxYsXZ+PGjdm8eXNuvfXWwmLw5ZdfznXXXZeTTz65\n",
              "0/5jjjkmhx56aC644IK8/PLL3fpbdkqh+MADD+Tb3/527r333u2eO3fu3PTv37/TNnfu3J0wSgCg\n",
              "btSw9Vx2LTNt2rRMnDgx48ePz/jx43PggQd2FJd/9uqrr+b000/Pcccdl4997GMd+9esWZPf/e53\n",
              "+dWvfpVnn302X/jCF7p17Ur1vz4+pQTHHHNMFi1alAEDBuTWW2/N3//932fs2LH593//98yaNSst\n",
              "LS2v+962trZtqu6GhoY0NDSUPUwAdrIh866u9RDYiR47/4KaXXviIZfW7No/vPcfulTLrFu3Ls3N\n",
              "zVm/fn369OmTarWagQMHZunSpWlubn7dz7/55pvzjW98o2NiyubNm3Paaaflne98ZxYsWPC6a1f/\n",
              "+te/zsyZM/PAAw90+W/pkeVxnn322QwYMCBJcs011+RXv/pVBg0alPXr12fChAlvWCgqCgGAHVbD\n",
              "Zz13tZYZMGBARo8enZtuuinTpk3LHXfckcbGxm2KxE2bNuWVV17JPvvsk+eeey5XXXVVvvSlLyVJ\n",
              "tmzZkilTpmTffffdpkh84YUX0tDQkLe//e1pb2/PLbfcklGjRnXrb+mRQrGtrS1bt25N7969U61W\n",
              "M2jQoCTJvvvuu83znwEA3qquvfbaTJs2LVdeeWX69euX66+/PkkyY8aMTJo0KZMmTcqGDRsyYcKE\n",
              "9OrVK+3t7Tn//PNz0kknJUluueWW3HnnnfnABz7QUQSOHTs23/jGN/LII4+kpaUllUolW7ZsyejR\n",
              "oztmS3dVj7SeZ8+enf/7f/9vrrrqqvzgBz9IW1tbPvWpT+VHP/pRfvzjH+eHP/xh2ZcEYDeg9fzW\n",
              "UtPW88G1az3/+MF/qtm1y9YjieLs2bMzb968HH300XnmmWeyZcuWfOUrX8knP/nJjkoZAKCn1Nsz\n",
              "l2ulx2Y9n3/++Vm7dm2ef/75PP/88/nyl7+c+fPnZ9999+2pSwIAUKIeSRQXL168zb7Zs2fn3e9+\n",
              "d6rVaiZNmtQTlwUAeI1EsRQ9UiiecsopOfzww9O3b9+OfRs2bMjVV1+dSqWiUAQA2A30SKG4cOHC\n",
              "XHfddbn66qs7ZuC8973vzc9//vOeuBwAAD2gRwrFM888Mx/+8IczY8aMHHXUUbn00ktfd/FHAIDS\n",
              "tWs9l6HHJrMMGjQod999d/baa68cddRRntcMALCb6ZFE8c8qlUo+//nPZ+LEiR2PmQEA6HEms5Si\n",
              "RwvFPzv44INz8MEH74xLAQBQkp1SKAIA7FQSxVL02D2KAADs3hSKAAAU0noGAOqP1nMpJIoAABSS\n",
              "KAIA9ceC26WQKAIAUEihCABAIa1nAKD+VNtrPYK6IFEEAKCQRBEAqD+WxymFRBEAgEISRQCg/lge\n",
              "pxQSRQAACikUAQAopPUMANQfk1lKIVEEAKCQRBEAqD8SxVJIFAEAKKRQBACgkNYzAFB/tJ5LIVEE\n",
              "AKCQRBEAqD/t7bUeQV2QKAIAUEiiCADUH/colkKiCABAIYUiAACFtJ4BgPqj9VwKiSIAAIUkigBA\n",
              "/WmXKJZBoggAQCGFIgAAhbSeAYC6U616MksZJIoAABSSKAIA9cdkllJIFAEAKCRRBADqjwW3SyFR\n",
              "BACgkEIRAIBCWs8AQP1ptzxOGSSKAAAUkigCAPXHZJZSSBQBACikUAQAoJDWMwBQd6oms5RCoggA\n",
              "QCGJIgBQf0xmKYVEEQCAQhJFAKD+tEsUyyBRBACgkEIRAIBCWs8AQP2pWh6nDBJFAAAKSRQBgLpT\n",
              "NZmlFBJFAAAKKRQBACik9QwA1B+TWUohUQQAoJBEEQCoOyazlEOiCABQIytWrMgRRxyRAw88MGPG\n",
              "jMmDDz64zTnt7e258MILM2LEiAwfPjzTp0/Pq6++2nH8rrvuyvDhwzNs2LB8/OMfz8aNG7t0rCsU\n",
              "igBA/am2127rhpaWlsycOTOPPvpoLr744kybNm2bcxYuXJhly5Zl2bJlefjhh9OrV6/MmzcvSfLS\n",
              "Sy9l+vTp+cEPfpAVK1bkXe96V770pS9t91hXKRQBAGpg3bp1uffeezN16tQkyeTJk7N27dqsXLmy\n",
              "03n3339/jj322PTt2zeVSiUnnHBCbrzxxiTJj370o4waNSrDhw9Pkpx77rlZtGjRdo91lUIRAKBE\n",
              "bW1t2bhxY6etra1tm/PWrl2bgQMHpk+f16aMVCqVNDU1pbW1tdN5hx12WBYvXpyNGzdm8+bNufXW\n",
              "W7N69eokSWtrawYNGtRx7uDBg/PUU09ly5Ytb3isq0xm2UW1tbVl7ty5mTVrVhoaGmo9HHqY3/ut\n",
              "5a38ez92/gW1HsJO91b+vWvpf7ffVrNrz549O3PmzOm07/LLL8/s2bPf1OdNmzYta9asyfjx47Pn\n",
              "nnvm2GOPzd13313CSLevUq1WTQvaBW3cuDH9+/fPhg0b0q9fv1oPhx7m935r8Xu/tfi933ra2tq2\n",
              "SRAbGhq2+ReFdevWpbm5OevXr0+fPn1SrVYzcODALF26NM3Nza/7+TfffHO+8Y1vZMmSJbntttuy\n",
              "cOHC/PjHP06SPPTQQznuuOPyxBNPvOGxrtJ6BgAoUUNDQ/r169dpK0qTBwwYkNGjR+emm25Kktxx\n",
              "xx1pbGzcpkjctGlTXnjhhSTJc889l6uuuioXXXRRkmTixIlZtmxZHnnkkSTJN7/5zUyZMmW7x7pK\n",
              "6xkAoEauvfbaTJs2LVdeeWX69euX66+/PkkyY8aMTJo0KZMmTcqGDRsyYcKE9OrVK+3t7Tn//PNz\n",
              "0kknJUn23nvvXHfddTnllFOyZcuWjBgxIjfccMN2j3WV1vMuSqvircXv/dbi935r8XuzO9N63kU1\n",
              "NDTk8ssvd+PzW4Tf+63F7/3W4vdmdyZRBACgkEQRAIBCCkUAAAopFAEAKKRQ3MX89re/zRFHHJG3\n",
              "v/3tOeWUU7Y5fsUVV2To0KEZOnRoLr300p0/QHrEK6+8koMOOigjR47stH/hwoUZNmxYhg4dmrPP\n",
              "PjubN2+uzQApzYoVK3LEEUfkwAMPzJgxY/Lggw/Wekj0oP/1v/5XRo8enZEjR76ppUmg1hSKu5iB\n",
              "Awfma1/7Wq655pptjv3rv/5rFi1alN///vd56KGH8pOf/CT/8i//UoNRUraLL744Y8eO7bTv8ccf\n",
              "z2WXXZYlS5Zk5cqVeeaZZ7JgwYIajZCytLS0ZObMmXn00Udz8cUXZ9q0abUeEj2kWq1m6tSp+c53\n",
              "vpPly5fnrrvuSktLS1588cVaDw26TKG4i2lsbMwHP/jBwmUUbrnllpxxxhnZa6+90tDQkLPOOiuL\n",
              "Fi2qwSgp0z333JMnn3wyn/rUpzrtv/322zNp0qQccMABqVQqOeecc/zeu7l169bl3nvvzdSpU5Mk\n",
              "kydPztq1a7Ny5coaj4yeUqlU8sc//jHJa+sp/sVf/IVlctitKBR3I62trRk0aFDH68GDB6e1tbWG\n",
              "I2JH/fGPf8xFF12Ub33rW9sc83vXn7Vr12bgwIHp0+e1h2JVKpU0NTX5XetUpVLJLbfcko9//OMZ\n",
              "NGhQjjzyyNxwww3p27dvrYcGXaZQhBr63Oc+l0suuSQDBgyo9VCAkm3ZsiVXXHFF7rzzzqxZsyY/\n",
              "/elPc8YZZ+S5556r9dCgyxSKO9l3v/vdjBw5MiNHjux4nmNXNTU1Zc2aNR2vV69enaamprKHSIm2\n",
              "93svXbo0F154YQYPHpwpU6bkoYceyvve974kfu969J73vCdPPfVUtmzZkuS1e9haW1v9rnVq+fLl\n",
              "+Y//+I+MGzcuSTJmzJg0Njbmvvvuq/HIoOsUijvZpz/96SxfvjzLly/PmWee2a33fuITn8iNN96Y\n",
              "l19+OW1tbfn2t7+dKVOm9NBIKcP2fu/Vq1d3bDfffHMOOuig/OEPf0jy2v1rixcvztNPP51qtZr5\n",
              "8+f7vXdzAwYMyOjRo3PTTTclSe644440Njamubm5xiOjJ/z5XwwefvjhJMnKlSuzatWqjn8ZhN1B\n",
              "n1oPgM7+8Ic/5Jhjjsmf/vSnvPLKK2lsbMwll1ySc889NxMmTMjpp5+eQw45JEly+umn56Mf/WiN\n",
              "R0xPGTJkSObMmdMxG3rChAlpaWmp8ajYUddee22mTZuWK6+8Mv369et2Z4Hdx/77758FCxbktNNO\n",
              "S69evdLe3p6vf/3rEmR2K571DABAIa1nAAAKKRQBACikUATelC1btmTOnDkZPnx4RowYkZEjR2bm\n",
              "zJkdiwsX+c53vlP4aMr/bP78+fmf//N/ljtYAN4Uk1mAN2X69OlZv359fv3rX2efffZJtVrN7bff\n",
              "nvXr1+cd73jHm/7cc845p7xBArBDJIpAt61cuTK33XZbrr/++uyzzz5JXnsKxSc+8YkMGTIkN954\n",
              "Yz70oQ9l9OjRGTduXO6///5tPmPFihUZO3ZsDj300BxyyCH54he/mCSZPXt2/u7v/i7JtgnkXXfd\n",
              "lQkTJrzh+wEoj0QR6LZly5Zl2LBheec737nNsV/+8pdZtGhR/vVf/zUNDQ1ZsmRJ/uZv/iYPPvhg\n",
              "p/O+/vWv56Mf/WhmzZqVJFm/fn23xrCj7wdg+xSKQKl++MMf5v7778+HPvShjn3r16/PK6+80um8\n",
              "cePG5Qtf+EJeeumljB8/Pscee2y3rrOj7wdg+7SegW4bPXp0VqxYkeeff36bY9VqNX/7t3/b8USa\n",
              "5cuX56mnnsqee+7Z6bzJkyfnl7/8Zd73vvd1pIP/VZ8+fbJ169aO15s2berW+wHYMQpFoNuam5sz\n",
              "efLkTJ8+vWOWc7VazR133JGPfvSjuemmm9La2pokaW9vz7333rvNZ6xYsSL7779/Pv3pT+crX/lK\n",
              "/u3f/q3wOr///e/zyiuvZMuWLfne977XrfcDsGO0noE35dvf/nauuOKKfOhDH0qfPn3S3t6ecePG\n",
              "5ctf/nK+8pWv5GMf+1i2bNmSV199NSeeeGL+8i//stP7b7/99tx0003p27dv2tvbM3/+/G2u8Vd/\n",
              "9Vf5yEc+khEjRmTgwIEZO3ZsfvOb33T5/QDsGI/wAwCgkNYzAACFFIoAABRSKAIAUEihCABAIYUi\n",
              "AACFFIoAABRSKAIAUEihCABAIYUiAACFFIoAABRSKAIAUOj/A5AQTwTNh9DSAAAAAElFTkSuQmCC\n",
              "\">\n",
              "      </div>\n",
              "      <script type=\"text/javascript\">\n",
              "        (() => {\n",
              "          const chartElement = document.getElementById(\"chart-e827692d-2fdc-472d-a96c-94c22dd36f3c\");\n",
              "          async function getCodeForChartHandler(event) {\n",
              "            const chartCodeResponse =  await google.colab.kernel.invokeFunction(\n",
              "                'getCodeForChart', [\"chart-e827692d-2fdc-472d-a96c-94c22dd36f3c\"], {});\n",
              "            const responseJson = chartCodeResponse.data['application/json'];\n",
              "            await google.colab.notebook.addCell(responseJson.code, 'code');\n",
              "          }\n",
              "          chartElement.onclick = getCodeForChartHandler;\n",
              "        })();\n",
              "      </script>\n",
              "      <style>\n",
              "        .colab-quickchart-chart-with-code  {\n",
              "            display: block;\n",
              "            float: left;\n",
              "            border: 1px solid transparent;\n",
              "        }\n",
              "\n",
              "        .colab-quickchart-chart-with-code:hover {\n",
              "            cursor: pointer;\n",
              "            border: 1px solid #aaa;\n",
              "        }\n",
              "      </style>"
            ]
          },
          "metadata": {}
        }
      ]
    },
    {
      "cell_type": "code",
      "source": [
        "import seaborn as sb\n",
        "sb.scatterplot(x = \"Celsius\", y= \"Fahrenheit\", data = Temperaturas , hue= \"Fahrenheit\" , palette= \"coolwarm\")"
      ],
      "metadata": {
        "colab": {
          "base_uri": "https://localhost:8080/",
          "height": 304
        },
        "id": "pMNNX8WZlPhO",
        "outputId": "94efef48-3bd5-4f97-c413-bfd3388dcc77"
      },
      "execution_count": 46,
      "outputs": [
        {
          "output_type": "error",
          "ename": "ValueError",
          "evalue": "Could not interpret value `Fahrenheit` for `y`. An entry with this name does not appear in `data`.",
          "traceback": [
            "\u001b[0;31m---------------------------------------------------------------------------\u001b[0m",
            "\u001b[0;31mValueError\u001b[0m                                Traceback (most recent call last)",
            "\u001b[0;32m<ipython-input-46-88248beb1609>\u001b[0m in \u001b[0;36m<cell line: 2>\u001b[0;34m()\u001b[0m\n\u001b[1;32m      1\u001b[0m \u001b[0;32mimport\u001b[0m \u001b[0mseaborn\u001b[0m \u001b[0;32mas\u001b[0m \u001b[0msb\u001b[0m\u001b[0;34m\u001b[0m\u001b[0;34m\u001b[0m\u001b[0m\n\u001b[0;32m----> 2\u001b[0;31m \u001b[0msb\u001b[0m\u001b[0;34m.\u001b[0m\u001b[0mscatterplot\u001b[0m\u001b[0;34m(\u001b[0m\u001b[0mx\u001b[0m \u001b[0;34m=\u001b[0m \u001b[0;34m\"Celsius\"\u001b[0m\u001b[0;34m,\u001b[0m \u001b[0my\u001b[0m\u001b[0;34m=\u001b[0m \u001b[0;34m\"Fahrenheit\"\u001b[0m\u001b[0;34m,\u001b[0m \u001b[0mdata\u001b[0m \u001b[0;34m=\u001b[0m \u001b[0mTemperaturas\u001b[0m \u001b[0;34m,\u001b[0m \u001b[0mhue\u001b[0m\u001b[0;34m=\u001b[0m \u001b[0;34m\"Fahrenheit\"\u001b[0m \u001b[0;34m,\u001b[0m \u001b[0mpalette\u001b[0m\u001b[0;34m=\u001b[0m \u001b[0;34m\"coolwarm\"\u001b[0m\u001b[0;34m)\u001b[0m\u001b[0;34m\u001b[0m\u001b[0;34m\u001b[0m\u001b[0m\n\u001b[0m",
            "\u001b[0;32m/usr/local/lib/python3.10/dist-packages/seaborn/relational.py\u001b[0m in \u001b[0;36mscatterplot\u001b[0;34m(data, x, y, hue, size, style, palette, hue_order, hue_norm, sizes, size_order, size_norm, markers, style_order, legend, ax, **kwargs)\u001b[0m\n\u001b[1;32m    608\u001b[0m ):\n\u001b[1;32m    609\u001b[0m \u001b[0;34m\u001b[0m\u001b[0m\n\u001b[0;32m--> 610\u001b[0;31m     p = _ScatterPlotter(\n\u001b[0m\u001b[1;32m    611\u001b[0m         \u001b[0mdata\u001b[0m\u001b[0;34m=\u001b[0m\u001b[0mdata\u001b[0m\u001b[0;34m,\u001b[0m\u001b[0;34m\u001b[0m\u001b[0;34m\u001b[0m\u001b[0m\n\u001b[1;32m    612\u001b[0m         \u001b[0mvariables\u001b[0m\u001b[0;34m=\u001b[0m\u001b[0mdict\u001b[0m\u001b[0;34m(\u001b[0m\u001b[0mx\u001b[0m\u001b[0;34m=\u001b[0m\u001b[0mx\u001b[0m\u001b[0;34m,\u001b[0m \u001b[0my\u001b[0m\u001b[0;34m=\u001b[0m\u001b[0my\u001b[0m\u001b[0;34m,\u001b[0m \u001b[0mhue\u001b[0m\u001b[0;34m=\u001b[0m\u001b[0mhue\u001b[0m\u001b[0;34m,\u001b[0m \u001b[0msize\u001b[0m\u001b[0;34m=\u001b[0m\u001b[0msize\u001b[0m\u001b[0;34m,\u001b[0m \u001b[0mstyle\u001b[0m\u001b[0;34m=\u001b[0m\u001b[0mstyle\u001b[0m\u001b[0;34m)\u001b[0m\u001b[0;34m,\u001b[0m\u001b[0;34m\u001b[0m\u001b[0;34m\u001b[0m\u001b[0m\n",
            "\u001b[0;32m/usr/local/lib/python3.10/dist-packages/seaborn/relational.py\u001b[0m in \u001b[0;36m__init__\u001b[0;34m(self, data, variables, legend)\u001b[0m\n\u001b[1;32m    389\u001b[0m         )\n\u001b[1;32m    390\u001b[0m \u001b[0;34m\u001b[0m\u001b[0m\n\u001b[0;32m--> 391\u001b[0;31m         \u001b[0msuper\u001b[0m\u001b[0;34m(\u001b[0m\u001b[0;34m)\u001b[0m\u001b[0;34m.\u001b[0m\u001b[0m__init__\u001b[0m\u001b[0;34m(\u001b[0m\u001b[0mdata\u001b[0m\u001b[0;34m=\u001b[0m\u001b[0mdata\u001b[0m\u001b[0;34m,\u001b[0m \u001b[0mvariables\u001b[0m\u001b[0;34m=\u001b[0m\u001b[0mvariables\u001b[0m\u001b[0;34m)\u001b[0m\u001b[0;34m\u001b[0m\u001b[0;34m\u001b[0m\u001b[0m\n\u001b[0m\u001b[1;32m    392\u001b[0m \u001b[0;34m\u001b[0m\u001b[0m\n\u001b[1;32m    393\u001b[0m         \u001b[0mself\u001b[0m\u001b[0;34m.\u001b[0m\u001b[0mlegend\u001b[0m \u001b[0;34m=\u001b[0m \u001b[0mlegend\u001b[0m\u001b[0;34m\u001b[0m\u001b[0;34m\u001b[0m\u001b[0m\n",
            "\u001b[0;32m/usr/local/lib/python3.10/dist-packages/seaborn/_base.py\u001b[0m in \u001b[0;36m__init__\u001b[0;34m(self, data, variables)\u001b[0m\n\u001b[1;32m    632\u001b[0m         \u001b[0;31m# information for numeric axes would be information about log scales.\u001b[0m\u001b[0;34m\u001b[0m\u001b[0;34m\u001b[0m\u001b[0m\n\u001b[1;32m    633\u001b[0m         \u001b[0mself\u001b[0m\u001b[0;34m.\u001b[0m\u001b[0m_var_ordered\u001b[0m \u001b[0;34m=\u001b[0m \u001b[0;34m{\u001b[0m\u001b[0;34m\"x\"\u001b[0m\u001b[0;34m:\u001b[0m \u001b[0;32mFalse\u001b[0m\u001b[0;34m,\u001b[0m \u001b[0;34m\"y\"\u001b[0m\u001b[0;34m:\u001b[0m \u001b[0;32mFalse\u001b[0m\u001b[0;34m}\u001b[0m  \u001b[0;31m# alt., used DefaultDict\u001b[0m\u001b[0;34m\u001b[0m\u001b[0;34m\u001b[0m\u001b[0m\n\u001b[0;32m--> 634\u001b[0;31m         \u001b[0mself\u001b[0m\u001b[0;34m.\u001b[0m\u001b[0massign_variables\u001b[0m\u001b[0;34m(\u001b[0m\u001b[0mdata\u001b[0m\u001b[0;34m,\u001b[0m \u001b[0mvariables\u001b[0m\u001b[0;34m)\u001b[0m\u001b[0;34m\u001b[0m\u001b[0;34m\u001b[0m\u001b[0m\n\u001b[0m\u001b[1;32m    635\u001b[0m \u001b[0;34m\u001b[0m\u001b[0m\n\u001b[1;32m    636\u001b[0m         \u001b[0;31m# TODO Lots of tests assume that these are called to initialize the\u001b[0m\u001b[0;34m\u001b[0m\u001b[0;34m\u001b[0m\u001b[0m\n",
            "\u001b[0;32m/usr/local/lib/python3.10/dist-packages/seaborn/_base.py\u001b[0m in \u001b[0;36massign_variables\u001b[0;34m(self, data, variables)\u001b[0m\n\u001b[1;32m    677\u001b[0m             \u001b[0;31m# to centralize / standardize data consumption logic.\u001b[0m\u001b[0;34m\u001b[0m\u001b[0;34m\u001b[0m\u001b[0m\n\u001b[1;32m    678\u001b[0m             \u001b[0mself\u001b[0m\u001b[0;34m.\u001b[0m\u001b[0minput_format\u001b[0m \u001b[0;34m=\u001b[0m \u001b[0;34m\"long\"\u001b[0m\u001b[0;34m\u001b[0m\u001b[0;34m\u001b[0m\u001b[0m\n\u001b[0;32m--> 679\u001b[0;31m             \u001b[0mplot_data\u001b[0m \u001b[0;34m=\u001b[0m \u001b[0mPlotData\u001b[0m\u001b[0;34m(\u001b[0m\u001b[0mdata\u001b[0m\u001b[0;34m,\u001b[0m \u001b[0mvariables\u001b[0m\u001b[0;34m)\u001b[0m\u001b[0;34m\u001b[0m\u001b[0;34m\u001b[0m\u001b[0m\n\u001b[0m\u001b[1;32m    680\u001b[0m             \u001b[0mframe\u001b[0m \u001b[0;34m=\u001b[0m \u001b[0mplot_data\u001b[0m\u001b[0;34m.\u001b[0m\u001b[0mframe\u001b[0m\u001b[0;34m\u001b[0m\u001b[0;34m\u001b[0m\u001b[0m\n\u001b[1;32m    681\u001b[0m             \u001b[0mnames\u001b[0m \u001b[0;34m=\u001b[0m \u001b[0mplot_data\u001b[0m\u001b[0;34m.\u001b[0m\u001b[0mnames\u001b[0m\u001b[0;34m\u001b[0m\u001b[0;34m\u001b[0m\u001b[0m\n",
            "\u001b[0;32m/usr/local/lib/python3.10/dist-packages/seaborn/_core/data.py\u001b[0m in \u001b[0;36m__init__\u001b[0;34m(self, data, variables)\u001b[0m\n\u001b[1;32m     56\u001b[0m \u001b[0;34m\u001b[0m\u001b[0m\n\u001b[1;32m     57\u001b[0m         \u001b[0mdata\u001b[0m \u001b[0;34m=\u001b[0m \u001b[0mhandle_data_source\u001b[0m\u001b[0;34m(\u001b[0m\u001b[0mdata\u001b[0m\u001b[0;34m)\u001b[0m\u001b[0;34m\u001b[0m\u001b[0;34m\u001b[0m\u001b[0m\n\u001b[0;32m---> 58\u001b[0;31m         \u001b[0mframe\u001b[0m\u001b[0;34m,\u001b[0m \u001b[0mnames\u001b[0m\u001b[0;34m,\u001b[0m \u001b[0mids\u001b[0m \u001b[0;34m=\u001b[0m \u001b[0mself\u001b[0m\u001b[0;34m.\u001b[0m\u001b[0m_assign_variables\u001b[0m\u001b[0;34m(\u001b[0m\u001b[0mdata\u001b[0m\u001b[0;34m,\u001b[0m \u001b[0mvariables\u001b[0m\u001b[0;34m)\u001b[0m\u001b[0;34m\u001b[0m\u001b[0;34m\u001b[0m\u001b[0m\n\u001b[0m\u001b[1;32m     59\u001b[0m \u001b[0;34m\u001b[0m\u001b[0m\n\u001b[1;32m     60\u001b[0m         \u001b[0mself\u001b[0m\u001b[0;34m.\u001b[0m\u001b[0mframe\u001b[0m \u001b[0;34m=\u001b[0m \u001b[0mframe\u001b[0m\u001b[0;34m\u001b[0m\u001b[0;34m\u001b[0m\u001b[0m\n",
            "\u001b[0;32m/usr/local/lib/python3.10/dist-packages/seaborn/_core/data.py\u001b[0m in \u001b[0;36m_assign_variables\u001b[0;34m(self, data, variables)\u001b[0m\n\u001b[1;32m    230\u001b[0m                 \u001b[0;32melse\u001b[0m\u001b[0;34m:\u001b[0m\u001b[0;34m\u001b[0m\u001b[0;34m\u001b[0m\u001b[0m\n\u001b[1;32m    231\u001b[0m                     \u001b[0merr\u001b[0m \u001b[0;34m+=\u001b[0m \u001b[0;34m\"An entry with this name does not appear in `data`.\"\u001b[0m\u001b[0;34m\u001b[0m\u001b[0;34m\u001b[0m\u001b[0m\n\u001b[0;32m--> 232\u001b[0;31m                 \u001b[0;32mraise\u001b[0m \u001b[0mValueError\u001b[0m\u001b[0;34m(\u001b[0m\u001b[0merr\u001b[0m\u001b[0;34m)\u001b[0m\u001b[0;34m\u001b[0m\u001b[0;34m\u001b[0m\u001b[0m\n\u001b[0m\u001b[1;32m    233\u001b[0m \u001b[0;34m\u001b[0m\u001b[0m\n\u001b[1;32m    234\u001b[0m             \u001b[0;32melse\u001b[0m\u001b[0;34m:\u001b[0m\u001b[0;34m\u001b[0m\u001b[0;34m\u001b[0m\u001b[0m\n",
            "\u001b[0;31mValueError\u001b[0m: Could not interpret value `Fahrenheit` for `y`. An entry with this name does not appear in `data`."
          ]
        }
      ]
    },
    {
      "cell_type": "markdown",
      "source": [
        "Corrección a los datos mediante el editor en el laptop, con editor, poniendo \" Datai.csv\" para evitar extensión .txt  "
      ],
      "metadata": {
        "id": "2VaEnl_vVDs3"
      }
    },
    {
      "cell_type": "markdown",
      "source": [
        "De esta forma espero que los datos para la característica Fahrenheit sean tomados como flotantes Type:-float- y no como'object' al partir del documento generado con la aplicación del ipad  para .csv edit."
      ],
      "metadata": {
        "id": "2i_zGIC6VWd3"
      }
    },
    {
      "cell_type": "markdown",
      "source": [
        "Creamos un conjunto de datos"
      ],
      "metadata": {
        "id": "1RxhxkXspIcl"
      }
    },
    {
      "cell_type": "code",
      "source": [
        "import pandas as pd\n",
        "Temperaturas = pd.read_csv (\"CelsiusFahrenheitData.csv\")"
      ],
      "metadata": {
        "id": "QZUrTL0poeJv"
      },
      "execution_count": 47,
      "outputs": []
    },
    {
      "cell_type": "markdown",
      "source": [
        "\n",
        "# Neuer Abschnitt"
      ],
      "metadata": {
        "id": "BD1bML_oXKir"
      }
    },
    {
      "cell_type": "markdown",
      "source": [],
      "metadata": {
        "id": "eMkfTPSaXhz1"
      }
    },
    {
      "cell_type": "code",
      "source": [
        "Temperaturas.info()"
      ],
      "metadata": {
        "id": "_iAoBOtAoelo",
        "colab": {
          "base_uri": "https://localhost:8080/"
        },
        "outputId": "72739959-7102-4080-ba92-ae0831eff39b"
      },
      "execution_count": 48,
      "outputs": [
        {
          "output_type": "stream",
          "name": "stdout",
          "text": [
            "<class 'pandas.core.frame.DataFrame'>\n",
            "RangeIndex: 7 entries, 0 to 6\n",
            "Data columns (total 2 columns):\n",
            " #   Column       Non-Null Count  Dtype  \n",
            "---  ------       --------------  -----  \n",
            " 0   Celsius      7 non-null      int64  \n",
            " 1    Fahrenheit  7 non-null      float64\n",
            "dtypes: float64(1), int64(1)\n",
            "memory usage: 240.0 bytes\n"
          ]
        }
      ]
    },
    {
      "cell_type": "code",
      "source": [
        "Temperaturas.head()"
      ],
      "metadata": {
        "colab": {
          "base_uri": "https://localhost:8080/",
          "height": 206
        },
        "id": "edc7lYK6bn_J",
        "outputId": "5c76a3ab-e36a-4aa2-c666-bd2ec8f0f7d1"
      },
      "execution_count": 49,
      "outputs": [
        {
          "output_type": "execute_result",
          "data": {
            "text/plain": [
              "   Celsius   Fahrenheit\n",
              "0      -40        -40.0\n",
              "1      -10         14.0\n",
              "2        0         32.0\n",
              "3        8         46.4\n",
              "4       15         59.0"
            ],
            "text/html": [
              "\n",
              "  <div id=\"df-11deaad6-3ef3-40da-9965-8abe6bdde7cf\" class=\"colab-df-container\">\n",
              "    <div>\n",
              "<style scoped>\n",
              "    .dataframe tbody tr th:only-of-type {\n",
              "        vertical-align: middle;\n",
              "    }\n",
              "\n",
              "    .dataframe tbody tr th {\n",
              "        vertical-align: top;\n",
              "    }\n",
              "\n",
              "    .dataframe thead th {\n",
              "        text-align: right;\n",
              "    }\n",
              "</style>\n",
              "<table border=\"1\" class=\"dataframe\">\n",
              "  <thead>\n",
              "    <tr style=\"text-align: right;\">\n",
              "      <th></th>\n",
              "      <th>Celsius</th>\n",
              "      <th>Fahrenheit</th>\n",
              "    </tr>\n",
              "  </thead>\n",
              "  <tbody>\n",
              "    <tr>\n",
              "      <th>0</th>\n",
              "      <td>-40</td>\n",
              "      <td>-40.0</td>\n",
              "    </tr>\n",
              "    <tr>\n",
              "      <th>1</th>\n",
              "      <td>-10</td>\n",
              "      <td>14.0</td>\n",
              "    </tr>\n",
              "    <tr>\n",
              "      <th>2</th>\n",
              "      <td>0</td>\n",
              "      <td>32.0</td>\n",
              "    </tr>\n",
              "    <tr>\n",
              "      <th>3</th>\n",
              "      <td>8</td>\n",
              "      <td>46.4</td>\n",
              "    </tr>\n",
              "    <tr>\n",
              "      <th>4</th>\n",
              "      <td>15</td>\n",
              "      <td>59.0</td>\n",
              "    </tr>\n",
              "  </tbody>\n",
              "</table>\n",
              "</div>\n",
              "    <div class=\"colab-df-buttons\">\n",
              "\n",
              "  <div class=\"colab-df-container\">\n",
              "    <button class=\"colab-df-convert\" onclick=\"convertToInteractive('df-11deaad6-3ef3-40da-9965-8abe6bdde7cf')\"\n",
              "            title=\"Convert this dataframe to an interactive table.\"\n",
              "            style=\"display:none;\">\n",
              "\n",
              "  <svg xmlns=\"http://www.w3.org/2000/svg\" height=\"24px\" viewBox=\"0 -960 960 960\">\n",
              "    <path d=\"M120-120v-720h720v720H120Zm60-500h600v-160H180v160Zm220 220h160v-160H400v160Zm0 220h160v-160H400v160ZM180-400h160v-160H180v160Zm440 0h160v-160H620v160ZM180-180h160v-160H180v160Zm440 0h160v-160H620v160Z\"/>\n",
              "  </svg>\n",
              "    </button>\n",
              "\n",
              "  <style>\n",
              "    .colab-df-container {\n",
              "      display:flex;\n",
              "      gap: 12px;\n",
              "    }\n",
              "\n",
              "    .colab-df-convert {\n",
              "      background-color: #E8F0FE;\n",
              "      border: none;\n",
              "      border-radius: 50%;\n",
              "      cursor: pointer;\n",
              "      display: none;\n",
              "      fill: #1967D2;\n",
              "      height: 32px;\n",
              "      padding: 0 0 0 0;\n",
              "      width: 32px;\n",
              "    }\n",
              "\n",
              "    .colab-df-convert:hover {\n",
              "      background-color: #E2EBFA;\n",
              "      box-shadow: 0px 1px 2px rgba(60, 64, 67, 0.3), 0px 1px 3px 1px rgba(60, 64, 67, 0.15);\n",
              "      fill: #174EA6;\n",
              "    }\n",
              "\n",
              "    .colab-df-buttons div {\n",
              "      margin-bottom: 4px;\n",
              "    }\n",
              "\n",
              "    [theme=dark] .colab-df-convert {\n",
              "      background-color: #3B4455;\n",
              "      fill: #D2E3FC;\n",
              "    }\n",
              "\n",
              "    [theme=dark] .colab-df-convert:hover {\n",
              "      background-color: #434B5C;\n",
              "      box-shadow: 0px 1px 3px 1px rgba(0, 0, 0, 0.15);\n",
              "      filter: drop-shadow(0px 1px 2px rgba(0, 0, 0, 0.3));\n",
              "      fill: #FFFFFF;\n",
              "    }\n",
              "  </style>\n",
              "\n",
              "    <script>\n",
              "      const buttonEl =\n",
              "        document.querySelector('#df-11deaad6-3ef3-40da-9965-8abe6bdde7cf button.colab-df-convert');\n",
              "      buttonEl.style.display =\n",
              "        google.colab.kernel.accessAllowed ? 'block' : 'none';\n",
              "\n",
              "      async function convertToInteractive(key) {\n",
              "        const element = document.querySelector('#df-11deaad6-3ef3-40da-9965-8abe6bdde7cf');\n",
              "        const dataTable =\n",
              "          await google.colab.kernel.invokeFunction('convertToInteractive',\n",
              "                                                    [key], {});\n",
              "        if (!dataTable) return;\n",
              "\n",
              "        const docLinkHtml = 'Like what you see? Visit the ' +\n",
              "          '<a target=\"_blank\" href=https://colab.research.google.com/notebooks/data_table.ipynb>data table notebook</a>'\n",
              "          + ' to learn more about interactive tables.';\n",
              "        element.innerHTML = '';\n",
              "        dataTable['output_type'] = 'display_data';\n",
              "        await google.colab.output.renderOutput(dataTable, element);\n",
              "        const docLink = document.createElement('div');\n",
              "        docLink.innerHTML = docLinkHtml;\n",
              "        element.appendChild(docLink);\n",
              "      }\n",
              "    </script>\n",
              "  </div>\n",
              "\n",
              "\n",
              "<div id=\"df-5a86b687-dc8c-47f0-84b9-1faa03dd62f6\">\n",
              "  <button class=\"colab-df-quickchart\" onclick=\"quickchart('df-5a86b687-dc8c-47f0-84b9-1faa03dd62f6')\"\n",
              "            title=\"Suggest charts\"\n",
              "            style=\"display:none;\">\n",
              "\n",
              "<svg xmlns=\"http://www.w3.org/2000/svg\" height=\"24px\"viewBox=\"0 0 24 24\"\n",
              "     width=\"24px\">\n",
              "    <g>\n",
              "        <path d=\"M19 3H5c-1.1 0-2 .9-2 2v14c0 1.1.9 2 2 2h14c1.1 0 2-.9 2-2V5c0-1.1-.9-2-2-2zM9 17H7v-7h2v7zm4 0h-2V7h2v10zm4 0h-2v-4h2v4z\"/>\n",
              "    </g>\n",
              "</svg>\n",
              "  </button>\n",
              "\n",
              "<style>\n",
              "  .colab-df-quickchart {\n",
              "      --bg-color: #E8F0FE;\n",
              "      --fill-color: #1967D2;\n",
              "      --hover-bg-color: #E2EBFA;\n",
              "      --hover-fill-color: #174EA6;\n",
              "      --disabled-fill-color: #AAA;\n",
              "      --disabled-bg-color: #DDD;\n",
              "  }\n",
              "\n",
              "  [theme=dark] .colab-df-quickchart {\n",
              "      --bg-color: #3B4455;\n",
              "      --fill-color: #D2E3FC;\n",
              "      --hover-bg-color: #434B5C;\n",
              "      --hover-fill-color: #FFFFFF;\n",
              "      --disabled-bg-color: #3B4455;\n",
              "      --disabled-fill-color: #666;\n",
              "  }\n",
              "\n",
              "  .colab-df-quickchart {\n",
              "    background-color: var(--bg-color);\n",
              "    border: none;\n",
              "    border-radius: 50%;\n",
              "    cursor: pointer;\n",
              "    display: none;\n",
              "    fill: var(--fill-color);\n",
              "    height: 32px;\n",
              "    padding: 0;\n",
              "    width: 32px;\n",
              "  }\n",
              "\n",
              "  .colab-df-quickchart:hover {\n",
              "    background-color: var(--hover-bg-color);\n",
              "    box-shadow: 0 1px 2px rgba(60, 64, 67, 0.3), 0 1px 3px 1px rgba(60, 64, 67, 0.15);\n",
              "    fill: var(--button-hover-fill-color);\n",
              "  }\n",
              "\n",
              "  .colab-df-quickchart-complete:disabled,\n",
              "  .colab-df-quickchart-complete:disabled:hover {\n",
              "    background-color: var(--disabled-bg-color);\n",
              "    fill: var(--disabled-fill-color);\n",
              "    box-shadow: none;\n",
              "  }\n",
              "\n",
              "  .colab-df-spinner {\n",
              "    border: 2px solid var(--fill-color);\n",
              "    border-color: transparent;\n",
              "    border-bottom-color: var(--fill-color);\n",
              "    animation:\n",
              "      spin 1s steps(1) infinite;\n",
              "  }\n",
              "\n",
              "  @keyframes spin {\n",
              "    0% {\n",
              "      border-color: transparent;\n",
              "      border-bottom-color: var(--fill-color);\n",
              "      border-left-color: var(--fill-color);\n",
              "    }\n",
              "    20% {\n",
              "      border-color: transparent;\n",
              "      border-left-color: var(--fill-color);\n",
              "      border-top-color: var(--fill-color);\n",
              "    }\n",
              "    30% {\n",
              "      border-color: transparent;\n",
              "      border-left-color: var(--fill-color);\n",
              "      border-top-color: var(--fill-color);\n",
              "      border-right-color: var(--fill-color);\n",
              "    }\n",
              "    40% {\n",
              "      border-color: transparent;\n",
              "      border-right-color: var(--fill-color);\n",
              "      border-top-color: var(--fill-color);\n",
              "    }\n",
              "    60% {\n",
              "      border-color: transparent;\n",
              "      border-right-color: var(--fill-color);\n",
              "    }\n",
              "    80% {\n",
              "      border-color: transparent;\n",
              "      border-right-color: var(--fill-color);\n",
              "      border-bottom-color: var(--fill-color);\n",
              "    }\n",
              "    90% {\n",
              "      border-color: transparent;\n",
              "      border-bottom-color: var(--fill-color);\n",
              "    }\n",
              "  }\n",
              "</style>\n",
              "\n",
              "  <script>\n",
              "    async function quickchart(key) {\n",
              "      const quickchartButtonEl =\n",
              "        document.querySelector('#' + key + ' button');\n",
              "      quickchartButtonEl.disabled = true;  // To prevent multiple clicks.\n",
              "      quickchartButtonEl.classList.add('colab-df-spinner');\n",
              "      try {\n",
              "        const charts = await google.colab.kernel.invokeFunction(\n",
              "            'suggestCharts', [key], {});\n",
              "      } catch (error) {\n",
              "        console.error('Error during call to suggestCharts:', error);\n",
              "      }\n",
              "      quickchartButtonEl.classList.remove('colab-df-spinner');\n",
              "      quickchartButtonEl.classList.add('colab-df-quickchart-complete');\n",
              "    }\n",
              "    (() => {\n",
              "      let quickchartButtonEl =\n",
              "        document.querySelector('#df-5a86b687-dc8c-47f0-84b9-1faa03dd62f6 button');\n",
              "      quickchartButtonEl.style.display =\n",
              "        google.colab.kernel.accessAllowed ? 'block' : 'none';\n",
              "    })();\n",
              "  </script>\n",
              "</div>\n",
              "    </div>\n",
              "  </div>\n"
            ],
            "application/vnd.google.colaboratory.intrinsic+json": {
              "type": "dataframe",
              "variable_name": "Temperaturas",
              "summary": "{\n  \"name\": \"Temperaturas\",\n  \"rows\": 7,\n  \"fields\": [\n    {\n      \"column\": \"Celsius\",\n      \"properties\": {\n        \"dtype\": \"number\",\n        \"std\": 25,\n        \"min\": -40,\n        \"max\": 38,\n        \"num_unique_values\": 7,\n        \"samples\": [\n          -40,\n          -10,\n          22\n        ],\n        \"semantic_type\": \"\",\n        \"description\": \"\"\n      }\n    },\n    {\n      \"column\": \" Fahrenheit\",\n      \"properties\": {\n        \"dtype\": \"number\",\n        \"std\": 45.068519263133425,\n        \"min\": -40.0,\n        \"max\": 100.4,\n        \"num_unique_values\": 7,\n        \"samples\": [\n          -40.0,\n          14.0,\n          71.6\n        ],\n        \"semantic_type\": \"\",\n        \"description\": \"\"\n      }\n    }\n  ]\n}"
            }
          },
          "metadata": {},
          "execution_count": 49
        }
      ]
    },
    {
      "cell_type": "code",
      "source": [],
      "metadata": {
        "id": "jL3pMQwhjihX"
      },
      "execution_count": null,
      "outputs": []
    },
    {
      "cell_type": "code",
      "source": [
        "import seaborn as sb\n",
        "sb.scatterplot(x = \"Celsius\", y = \" Fahrenheit\", data = Temperaturas)"
      ],
      "metadata": {
        "colab": {
          "base_uri": "https://localhost:8080/",
          "height": 466
        },
        "outputId": "f5e0d3dd-da84-4481-8b57-a377be9d3941",
        "id": "kEzaPwVyjj3y"
      },
      "execution_count": 57,
      "outputs": [
        {
          "output_type": "execute_result",
          "data": {
            "text/plain": [
              "<Axes: xlabel='Celsius', ylabel=' Fahrenheit'>"
            ]
          },
          "metadata": {},
          "execution_count": 57
        },
        {
          "output_type": "display_data",
          "data": {
            "text/plain": [
              "<Figure size 640x480 with 1 Axes>"
            ],
            "image/png": "[encoded data removed]"
          },
          "metadata": {}
        }
      ]
    },
    {
      "cell_type": "markdown",
      "source": [
        "Se detectó el tipo flotante"
      ],
      "metadata": {
        "id": "njzRGp_radoz"
      }
    },
    {
      "cell_type": "markdown",
      "source": [
        "Un espacio antes del String en el archivo .scv causaba un error dificil de detectar"
      ],
      "metadata": {
        "id": "WyRvZqX5kLsa"
      }
    },
    {
      "cell_type": "markdown",
      "source": [
        "Utilizams seaborn para hacer una peuena grafica"
      ],
      "metadata": {
        "id": "W8qUMrqmqyIQ"
      }
    },
    {
      "cell_type": "code",
      "source": [
        "import seaborn as sb\n",
        "sb.scatterplot(x = \"Celsius\", y = \" Fahrenheit\", data = Temperaturas , hue= \" Fahrenheit\" , palette= \"coolwarm\")"
      ],
      "metadata": {
        "id": "I3CvBDK8ofYN",
        "colab": {
          "base_uri": "https://localhost:8080/",
          "height": 466
        },
        "outputId": "eba4817b-d3a4-4f9e-a348-15898cee8471"
      },
      "execution_count": 58,
      "outputs": [
        {
          "output_type": "execute_result",
          "data": {
            "text/plain": [
              "<Axes: xlabel='Celsius', ylabel=' Fahrenheit'>"
            ]
          },
          "metadata": {},
          "execution_count": 58
        },
        {
          "output_type": "display_data",
          "data": {
            "text/plain": [
              "<Figure size 640x480 with 1 Axes>"
            ],
            "image/png": "[encoded data removed]"
          },
          "metadata": {}
        }
      ]
    },
    {
      "cell_type": "markdown",
      "source": [
        "NameError: name 'sb' is not defined"
      ],
      "metadata": {
        "id": "zuVHBza5a_de"
      }
    },
    {
      "cell_type": "markdown",
      "source": [
        "olvidé escribir import seaborn as sb, creyendo que como ya se hizo mas arriba, entnces ya estaría \"importado\" al entorno..."
      ],
      "metadata": {
        "id": "nhLdahKFbC6c"
      }
    },
    {
      "cell_type": "markdown",
      "source": [
        "Tambien afectaba la definicion de hue = _Fahrenheit"
      ],
      "metadata": {
        "id": "UGp_r7-PlABW"
      }
    },
    {
      "cell_type": "code",
      "source": [
        "Temperaturas.head()"
      ],
      "metadata": {
        "colab": {
          "base_uri": "https://localhost:8080/",
          "height": 206
        },
        "id": "ib8k2pmgaqhc",
        "outputId": "fbd18229-65c2-4dc3-8fbe-d7afe8f2415c"
      },
      "execution_count": 39,
      "outputs": [
        {
          "output_type": "execute_result",
          "data": {
            "text/plain": [
              "   Celsius   Fahrenheit\n",
              "0      -40        -40.0\n",
              "1      -10         14.0\n",
              "2        0         32.0\n",
              "3        8         46.4\n",
              "4       15         59.0"
            ],
            "text/html": [
              "\n",
              "  <div id=\"df-32a6ae7e-118a-4727-827c-edf91ed21caf\" class=\"colab-df-container\">\n",
              "    <div>\n",
              "<style scoped>\n",
              "    .dataframe tbody tr th:only-of-type {\n",
              "        vertical-align: middle;\n",
              "    }\n",
              "\n",
              "    .dataframe tbody tr th {\n",
              "        vertical-align: top;\n",
              "    }\n",
              "\n",
              "    .dataframe thead th {\n",
              "        text-align: right;\n",
              "    }\n",
              "</style>\n",
              "<table border=\"1\" class=\"dataframe\">\n",
              "  <thead>\n",
              "    <tr style=\"text-align: right;\">\n",
              "      <th></th>\n",
              "      <th>Celsius</th>\n",
              "      <th>Fahrenheit</th>\n",
              "    </tr>\n",
              "  </thead>\n",
              "  <tbody>\n",
              "    <tr>\n",
              "      <th>0</th>\n",
              "      <td>-40</td>\n",
              "      <td>-40.0</td>\n",
              "    </tr>\n",
              "    <tr>\n",
              "      <th>1</th>\n",
              "      <td>-10</td>\n",
              "      <td>14.0</td>\n",
              "    </tr>\n",
              "    <tr>\n",
              "      <th>2</th>\n",
              "      <td>0</td>\n",
              "      <td>32.0</td>\n",
              "    </tr>\n",
              "    <tr>\n",
              "      <th>3</th>\n",
              "      <td>8</td>\n",
              "      <td>46.4</td>\n",
              "    </tr>\n",
              "    <tr>\n",
              "      <th>4</th>\n",
              "      <td>15</td>\n",
              "      <td>59.0</td>\n",
              "    </tr>\n",
              "  </tbody>\n",
              "</table>\n",
              "</div>\n",
              "    <div class=\"colab-df-buttons\">\n",
              "\n",
              "  <div class=\"colab-df-container\">\n",
              "    <button class=\"colab-df-convert\" onclick=\"convertToInteractive('df-32a6ae7e-118a-4727-827c-edf91ed21caf')\"\n",
              "            title=\"Convert this dataframe to an interactive table.\"\n",
              "            style=\"display:none;\">\n",
              "\n",
              "  <svg xmlns=\"http://www.w3.org/2000/svg\" height=\"24px\" viewBox=\"0 -960 960 960\">\n",
              "    <path d=\"M120-120v-720h720v720H120Zm60-500h600v-160H180v160Zm220 220h160v-160H400v160Zm0 220h160v-160H400v160ZM180-400h160v-160H180v160Zm440 0h160v-160H620v160ZM180-180h160v-160H180v160Zm440 0h160v-160H620v160Z\"/>\n",
              "  </svg>\n",
              "    </button>\n",
              "\n",
              "  <style>\n",
              "    .colab-df-container {\n",
              "      display:flex;\n",
              "      gap: 12px;\n",
              "    }\n",
              "\n",
              "    .colab-df-convert {\n",
              "      background-color: #E8F0FE;\n",
              "      border: none;\n",
              "      border-radius: 50%;\n",
              "      cursor: pointer;\n",
              "      display: none;\n",
              "      fill: #1967D2;\n",
              "      height: 32px;\n",
              "      padding: 0 0 0 0;\n",
              "      width: 32px;\n",
              "    }\n",
              "\n",
              "    .colab-df-convert:hover {\n",
              "      background-color: #E2EBFA;\n",
              "      box-shadow: 0px 1px 2px rgba(60, 64, 67, 0.3), 0px 1px 3px 1px rgba(60, 64, 67, 0.15);\n",
              "      fill: #174EA6;\n",
              "    }\n",
              "\n",
              "    .colab-df-buttons div {\n",
              "      margin-bottom: 4px;\n",
              "    }\n",
              "\n",
              "    [theme=dark] .colab-df-convert {\n",
              "      background-color: #3B4455;\n",
              "      fill: #D2E3FC;\n",
              "    }\n",
              "\n",
              "    [theme=dark] .colab-df-convert:hover {\n",
              "      background-color: #434B5C;\n",
              "      box-shadow: 0px 1px 3px 1px rgba(0, 0, 0, 0.15);\n",
              "      filter: drop-shadow(0px 1px 2px rgba(0, 0, 0, 0.3));\n",
              "      fill: #FFFFFF;\n",
              "    }\n",
              "  </style>\n",
              "\n",
              "    <script>\n",
              "      const buttonEl =\n",
              "        document.querySelector('#df-32a6ae7e-118a-4727-827c-edf91ed21caf button.colab-df-convert');\n",
              "      buttonEl.style.display =\n",
              "        google.colab.kernel.accessAllowed ? 'block' : 'none';\n",
              "\n",
              "      async function convertToInteractive(key) {\n",
              "        const element = document.querySelector('#df-32a6ae7e-118a-4727-827c-edf91ed21caf');\n",
              "        const dataTable =\n",
              "          await google.colab.kernel.invokeFunction('convertToInteractive',\n",
              "                                                    [key], {});\n",
              "        if (!dataTable) return;\n",
              "\n",
              "        const docLinkHtml = 'Like what you see? Visit the ' +\n",
              "          '<a target=\"_blank\" href=https://colab.research.google.com/notebooks/data_table.ipynb>data table notebook</a>'\n",
              "          + ' to learn more about interactive tables.';\n",
              "        element.innerHTML = '';\n",
              "        dataTable['output_type'] = 'display_data';\n",
              "        await google.colab.output.renderOutput(dataTable, element);\n",
              "        const docLink = document.createElement('div');\n",
              "        docLink.innerHTML = docLinkHtml;\n",
              "        element.appendChild(docLink);\n",
              "      }\n",
              "    </script>\n",
              "  </div>\n",
              "\n",
              "\n",
              "<div id=\"df-0813c676-373b-4e71-b015-b775726356dd\">\n",
              "  <button class=\"colab-df-quickchart\" onclick=\"quickchart('df-0813c676-373b-4e71-b015-b775726356dd')\"\n",
              "            title=\"Suggest charts\"\n",
              "            style=\"display:none;\">\n",
              "\n",
              "<svg xmlns=\"http://www.w3.org/2000/svg\" height=\"24px\"viewBox=\"0 0 24 24\"\n",
              "     width=\"24px\">\n",
              "    <g>\n",
              "        <path d=\"M19 3H5c-1.1 0-2 .9-2 2v14c0 1.1.9 2 2 2h14c1.1 0 2-.9 2-2V5c0-1.1-.9-2-2-2zM9 17H7v-7h2v7zm4 0h-2V7h2v10zm4 0h-2v-4h2v4z\"/>\n",
              "    </g>\n",
              "</svg>\n",
              "  </button>\n",
              "\n",
              "<style>\n",
              "  .colab-df-quickchart {\n",
              "      --bg-color: #E8F0FE;\n",
              "      --fill-color: #1967D2;\n",
              "      --hover-bg-color: #E2EBFA;\n",
              "      --hover-fill-color: #174EA6;\n",
              "      --disabled-fill-color: #AAA;\n",
              "      --disabled-bg-color: #DDD;\n",
              "  }\n",
              "\n",
              "  [theme=dark] .colab-df-quickchart {\n",
              "      --bg-color: #3B4455;\n",
              "      --fill-color: #D2E3FC;\n",
              "      --hover-bg-color: #434B5C;\n",
              "      --hover-fill-color: #FFFFFF;\n",
              "      --disabled-bg-color: #3B4455;\n",
              "      --disabled-fill-color: #666;\n",
              "  }\n",
              "\n",
              "  .colab-df-quickchart {\n",
              "    background-color: var(--bg-color);\n",
              "    border: none;\n",
              "    border-radius: 50%;\n",
              "    cursor: pointer;\n",
              "    display: none;\n",
              "    fill: var(--fill-color);\n",
              "    height: 32px;\n",
              "    padding: 0;\n",
              "    width: 32px;\n",
              "  }\n",
              "\n",
              "  .colab-df-quickchart:hover {\n",
              "    background-color: var(--hover-bg-color);\n",
              "    box-shadow: 0 1px 2px rgba(60, 64, 67, 0.3), 0 1px 3px 1px rgba(60, 64, 67, 0.15);\n",
              "    fill: var(--button-hover-fill-color);\n",
              "  }\n",
              "\n",
              "  .colab-df-quickchart-complete:disabled,\n",
              "  .colab-df-quickchart-complete:disabled:hover {\n",
              "    background-color: var(--disabled-bg-color);\n",
              "    fill: var(--disabled-fill-color);\n",
              "    box-shadow: none;\n",
              "  }\n",
              "\n",
              "  .colab-df-spinner {\n",
              "    border: 2px solid var(--fill-color);\n",
              "    border-color: transparent;\n",
              "    border-bottom-color: var(--fill-color);\n",
              "    animation:\n",
              "      spin 1s steps(1) infinite;\n",
              "  }\n",
              "\n",
              "  @keyframes spin {\n",
              "    0% {\n",
              "      border-color: transparent;\n",
              "      border-bottom-color: var(--fill-color);\n",
              "      border-left-color: var(--fill-color);\n",
              "    }\n",
              "    20% {\n",
              "      border-color: transparent;\n",
              "      border-left-color: var(--fill-color);\n",
              "      border-top-color: var(--fill-color);\n",
              "    }\n",
              "    30% {\n",
              "      border-color: transparent;\n",
              "      border-left-color: var(--fill-color);\n",
              "      border-top-color: var(--fill-color);\n",
              "      border-right-color: var(--fill-color);\n",
              "    }\n",
              "    40% {\n",
              "      border-color: transparent;\n",
              "      border-right-color: var(--fill-color);\n",
              "      border-top-color: var(--fill-color);\n",
              "    }\n",
              "    60% {\n",
              "      border-color: transparent;\n",
              "      border-right-color: var(--fill-color);\n",
              "    }\n",
              "    80% {\n",
              "      border-color: transparent;\n",
              "      border-right-color: var(--fill-color);\n",
              "      border-bottom-color: var(--fill-color);\n",
              "    }\n",
              "    90% {\n",
              "      border-color: transparent;\n",
              "      border-bottom-color: var(--fill-color);\n",
              "    }\n",
              "  }\n",
              "</style>\n",
              "\n",
              "  <script>\n",
              "    async function quickchart(key) {\n",
              "      const quickchartButtonEl =\n",
              "        document.querySelector('#' + key + ' button');\n",
              "      quickchartButtonEl.disabled = true;  // To prevent multiple clicks.\n",
              "      quickchartButtonEl.classList.add('colab-df-spinner');\n",
              "      try {\n",
              "        const charts = await google.colab.kernel.invokeFunction(\n",
              "            'suggestCharts', [key], {});\n",
              "      } catch (error) {\n",
              "        console.error('Error during call to suggestCharts:', error);\n",
              "      }\n",
              "      quickchartButtonEl.classList.remove('colab-df-spinner');\n",
              "      quickchartButtonEl.classList.add('colab-df-quickchart-complete');\n",
              "    }\n",
              "    (() => {\n",
              "      let quickchartButtonEl =\n",
              "        document.querySelector('#df-0813c676-373b-4e71-b015-b775726356dd button');\n",
              "      quickchartButtonEl.style.display =\n",
              "        google.colab.kernel.accessAllowed ? 'block' : 'none';\n",
              "    })();\n",
              "  </script>\n",
              "</div>\n",
              "    </div>\n",
              "  </div>\n"
            ],
            "application/vnd.google.colaboratory.intrinsic+json": {
              "type": "dataframe",
              "variable_name": "Temperaturas",
              "summary": "{\n  \"name\": \"Temperaturas\",\n  \"rows\": 7,\n  \"fields\": [\n    {\n      \"column\": \"Celsius\",\n      \"properties\": {\n        \"dtype\": \"number\",\n        \"std\": 25,\n        \"min\": -40,\n        \"max\": 38,\n        \"num_unique_values\": 7,\n        \"samples\": [\n          -40,\n          -10,\n          22\n        ],\n        \"semantic_type\": \"\",\n        \"description\": \"\"\n      }\n    },\n    {\n      \"column\": \" Fahrenheit\",\n      \"properties\": {\n        \"dtype\": \"number\",\n        \"std\": 45.068519263133425,\n        \"min\": -40.0,\n        \"max\": 100.4,\n        \"num_unique_values\": 7,\n        \"samples\": [\n          -40.0,\n          14.0,\n          71.6\n        ],\n        \"semantic_type\": \"\",\n        \"description\": \"\"\n      }\n    }\n  ]\n}"
            }
          },
          "metadata": {},
          "execution_count": 39
        }
      ]
    },
    {
      "source": [
        "# @title Celsius vs  Fahrenheit\n",
        "\n",
        "from matplotlib import pyplot as plt\n",
        "Temperaturas.plot(kind='scatter', x='Celsius', y=' Fahrenheit', s=32, alpha=.8)\n",
        "plt.gca().spines[['top', 'right',]].set_visible(False)"
      ],
      "cell_type": "code",
      "execution_count": null,
      "outputs": [
        {
          "output_type": "display_data",
          "data": {
            "text/plain": [
              "<Figure size 640x480 with 1 Axes>"
            ],
            "image/png": "[encoded data removed]"
          },
          "metadata": {}
        }
      ],
      "metadata": {
        "colab": {
          "base_uri": "https://localhost:8080/",
          "height": 449
        },
        "id": "WkwmdIgebxIL",
        "outputId": "105b73c1-6339-4412-99cc-8197bf1d5cf0"
      }
    },
    {
      "cell_type": "code",
      "source": [
        "# caracteriasticas     (X) , etiqueta  (y)\n",
        "X = Temperaturas[\"Celsius\"]\n",
        "y= Temperaturas[\" Fahrenheit\"]\n"
      ],
      "metadata": {
        "id": "orJb3G4DlKyp"
      },
      "execution_count": 61,
      "outputs": []
    },
    {
      "cell_type": "code",
      "source": [
        "y\n"
      ],
      "metadata": {
        "colab": {
          "base_uri": "https://localhost:8080/"
        },
        "id": "9aswV_cElUd3",
        "outputId": "39390350-6abe-4800-f47c-6fb9f132f966"
      },
      "execution_count": 62,
      "outputs": [
        {
          "output_type": "execute_result",
          "data": {
            "text/plain": [
              "0    -40.0\n",
              "1     14.0\n",
              "2     32.0\n",
              "3     46.4\n",
              "4     59.0\n",
              "5     71.6\n",
              "6    100.4\n",
              "Name:  Fahrenheit, dtype: float64"
            ]
          },
          "metadata": {},
          "execution_count": 62
        }
      ]
    },
    {
      "cell_type": "code",
      "source": [],
      "metadata": {
        "id": "u91YVTyNlobi"
      },
      "execution_count": null,
      "outputs": []
    },
    {
      "cell_type": "markdown",
      "source": [
        "arreglo de arreglos mediante una transformacion es necesarria en la mayoria de los casos: Herramienta de numpy llamada reschape"
      ],
      "metadata": {
        "id": "fnG_cX_clprY"
      }
    },
    {
      "cell_type": "markdown",
      "source": [
        "transfomación necesaria para entrenar y predecir"
      ],
      "metadata": {
        "id": "GjBL1Qf_o9Zr"
      }
    },
    {
      "cell_type": "code",
      "source": [
        "# X.Values\n",
        "# [-40, -10, 0, 8, ...]\n",
        "# [[-40], [-10], [0], [8], ...]\n",
        "\n",
        "X_procesada = X.values.reshape(-1,1)\n",
        "y_procesada = y.values.reshape(-1,1)\n"
      ],
      "metadata": {
        "id": "G9jcuJxXlzTj"
      },
      "execution_count": 65,
      "outputs": []
    },
    {
      "cell_type": "code",
      "source": [
        "X_procesada\n"
      ],
      "metadata": {
        "colab": {
          "base_uri": "https://localhost:8080/"
        },
        "id": "ug8SH1Ybn1Kf",
        "outputId": "cdd4d491-f20f-4b77-c084-b1ccfa543504"
      },
      "execution_count": 71,
      "outputs": [
        {
          "output_type": "execute_result",
          "data": {
            "text/plain": [
              "array([[-40],\n",
              "       [-10],\n",
              "       [  0],\n",
              "       [  8],\n",
              "       [ 15],\n",
              "       [ 22],\n",
              "       [ 38]])"
            ]
          },
          "metadata": {},
          "execution_count": 71
        }
      ]
    },
    {
      "cell_type": "code",
      "source": [
        "y_procesada"
      ],
      "metadata": {
        "colab": {
          "base_uri": "https://localhost:8080/"
        },
        "id": "Q8PEvcbAoCGs",
        "outputId": "d84dff4d-14cb-4f72-fc90-07749d5918de"
      },
      "execution_count": 72,
      "outputs": [
        {
          "output_type": "execute_result",
          "data": {
            "text/plain": [
              "array([[-40. ],\n",
              "       [ 14. ],\n",
              "       [ 32. ],\n",
              "       [ 46.4],\n",
              "       [ 59. ],\n",
              "       [ 71.6],\n",
              "       [100.4]])"
            ]
          },
          "metadata": {},
          "execution_count": 72
        }
      ]
    },
    {
      "cell_type": "markdown",
      "source": [
        "cramos el primer Modelo de regresión lineal -"
      ],
      "metadata": {
        "id": "3tr9D0q1mg3x"
      }
    },
    {
      "cell_type": "code",
      "source": [
        "from sklearn.linear_model import LinearRegression\n",
        "modelo = LinearRegression()"
      ],
      "metadata": {
        "id": "s_VV05lel2yV"
      },
      "execution_count": 70,
      "outputs": []
    },
    {
      "cell_type": "code",
      "source": [
        "#Entrenamiento del modelo   con la funcion fit\n",
        "modelo.fit (X_procesada, y_procesada)"
      ],
      "metadata": {
        "colab": {
          "base_uri": "https://localhost:8080/",
          "height": 75
        },
        "id": "vt6bIn7lmsW_",
        "outputId": "ba8feb48-70b0-457e-ad8a-cec519c3f560"
      },
      "execution_count": 73,
      "outputs": [
        {
          "output_type": "execute_result",
          "data": {
            "text/plain": [
              "LinearRegression()"
            ],
            "text/html": [
              "<style>#sk-container-id-1 {color: black;background-color: white;}#sk-container-id-1 pre{padding: 0;}#sk-container-id-1 div.sk-toggleable {background-color: white;}#sk-container-id-1 label.sk-toggleable__label {cursor: pointer;display: block;width: 100%;margin-bottom: 0;padding: 0.3em;box-sizing: border-box;text-align: center;}#sk-container-id-1 label.sk-toggleable__label-arrow:before {content: \"▸\";float: left;margin-right: 0.25em;color: #696969;}#sk-container-id-1 label.sk-toggleable__label-arrow:hover:before {color: black;}#sk-container-id-1 div.sk-estimator:hover label.sk-toggleable__label-arrow:before {color: black;}#sk-container-id-1 div.sk-toggleable__content {max-height: 0;max-width: 0;overflow: hidden;text-align: left;background-color: #f0f8ff;}#sk-container-id-1 div.sk-toggleable__content pre {margin: 0.2em;color: black;border-radius: 0.25em;background-color: #f0f8ff;}#sk-container-id-1 input.sk-toggleable__control:checked~div.sk-toggleable__content {max-height: 200px;max-width: 100%;overflow: auto;}#sk-container-id-1 input.sk-toggleable__control:checked~label.sk-toggleable__label-arrow:before {content: \"▾\";}#sk-container-id-1 div.sk-estimator input.sk-toggleable__control:checked~label.sk-toggleable__label {background-color: #d4ebff;}#sk-container-id-1 div.sk-label input.sk-toggleable__control:checked~label.sk-toggleable__label {background-color: #d4ebff;}#sk-container-id-1 input.sk-hidden--visually {border: 0;clip: rect(1px 1px 1px 1px);clip: rect(1px, 1px, 1px, 1px);height: 1px;margin: -1px;overflow: hidden;padding: 0;position: absolute;width: 1px;}#sk-container-id-1 div.sk-estimator {font-family: monospace;background-color: #f0f8ff;border: 1px dotted black;border-radius: 0.25em;box-sizing: border-box;margin-bottom: 0.5em;}#sk-container-id-1 div.sk-estimator:hover {background-color: #d4ebff;}#sk-container-id-1 div.sk-parallel-item::after {content: \"\";width: 100%;border-bottom: 1px solid gray;flex-grow: 1;}#sk-container-id-1 div.sk-label:hover label.sk-toggleable__label {background-color: #d4ebff;}#sk-container-id-1 div.sk-serial::before {content: \"\";position: absolute;border-left: 1px solid gray;box-sizing: border-box;top: 0;bottom: 0;left: 50%;z-index: 0;}#sk-container-id-1 div.sk-serial {display: flex;flex-direction: column;align-items: center;background-color: white;padding-right: 0.2em;padding-left: 0.2em;position: relative;}#sk-container-id-1 div.sk-item {position: relative;z-index: 1;}#sk-container-id-1 div.sk-parallel {display: flex;align-items: stretch;justify-content: center;background-color: white;position: relative;}#sk-container-id-1 div.sk-item::before, #sk-container-id-1 div.sk-parallel-item::before {content: \"\";position: absolute;border-left: 1px solid gray;box-sizing: border-box;top: 0;bottom: 0;left: 50%;z-index: -1;}#sk-container-id-1 div.sk-parallel-item {display: flex;flex-direction: column;z-index: 1;position: relative;background-color: white;}#sk-container-id-1 div.sk-parallel-item:first-child::after {align-self: flex-end;width: 50%;}#sk-container-id-1 div.sk-parallel-item:last-child::after {align-self: flex-start;width: 50%;}#sk-container-id-1 div.sk-parallel-item:only-child::after {width: 0;}#sk-container-id-1 div.sk-dashed-wrapped {border: 1px dashed gray;margin: 0 0.4em 0.5em 0.4em;box-sizing: border-box;padding-bottom: 0.4em;background-color: white;}#sk-container-id-1 div.sk-label label {font-family: monospace;font-weight: bold;display: inline-block;line-height: 1.2em;}#sk-container-id-1 div.sk-label-container {text-align: center;}#sk-container-id-1 div.sk-container {/* jupyter's `normalize.less` sets `[hidden] { display: none; }` but bootstrap.min.css set `[hidden] { display: none !important; }` so we also need the `!important` here to be able to override the default hidden behavior on the sphinx rendered scikit-learn.org. See: https://github.com/scikit-learn/scikit-learn/issues/21755 */display: inline-block !important;position: relative;}#sk-container-id-1 div.sk-text-repr-fallback {display: none;}</style><div id=\"sk-container-id-1\" class=\"sk-top-container\"><div class=\"sk-text-repr-fallback\"><pre>LinearRegression()</pre><b>In a Jupyter environment, please rerun this cell to show the HTML representation or trust the notebook. <br />On GitHub, the HTML representation is unable to render, please try loading this page with nbviewer.org.</b></div><div class=\"sk-container\" hidden><div class=\"sk-item\"><div class=\"sk-estimator sk-toggleable\"><input class=\"sk-toggleable__control sk-hidden--visually\" id=\"sk-estimator-id-1\" type=\"checkbox\" checked><label for=\"sk-estimator-id-1\" class=\"sk-toggleable__label sk-toggleable__label-arrow\">LinearRegression</label><div class=\"sk-toggleable__content\"><pre>LinearRegression()</pre></div></div></div></div></div>"
            ]
          },
          "metadata": {},
          "execution_count": 73
        }
      ]
    },
    {
      "cell_type": "markdown",
      "source": [
        "Una prediccion con un dato conocido"
      ],
      "metadata": {
        "id": "XSVwhZFjoRYP"
      }
    },
    {
      "cell_type": "code",
      "source": [
        "modelo.predict([[8]])"
      ],
      "metadata": {
        "colab": {
          "base_uri": "https://localhost:8080/"
        },
        "id": "zxIYmPJQoRKS",
        "outputId": "9d80bfd3-034c-4422-cb71-9776b197e2b5"
      },
      "execution_count": 74,
      "outputs": [
        {
          "output_type": "execute_result",
          "data": {
            "text/plain": [
              "array([[46.4]])"
            ]
          },
          "metadata": {},
          "execution_count": 74
        }
      ]
    },
    {
      "cell_type": "markdown",
      "source": [
        "PRedicción con un dato nuevo"
      ],
      "metadata": {
        "id": "AIlaXH_Uog8m"
      }
    },
    {
      "cell_type": "code",
      "source": [
        "modelo.predict([[123]])"
      ],
      "metadata": {
        "colab": {
          "base_uri": "https://localhost:8080/"
        },
        "id": "KaW8mw_hojsZ",
        "outputId": "a434e928-2e7d-4c32-bdc0-72d7fd6c7405"
      },
      "execution_count": 75,
      "outputs": [
        {
          "output_type": "execute_result",
          "data": {
            "text/plain": [
              "array([[253.4]])"
            ]
          },
          "metadata": {},
          "execution_count": 75
        }
      ]
    },
    {
      "cell_type": "markdown",
      "source": [
        "modelo.predict([[7900]])"
      ],
      "metadata": {
        "id": "dm5642PZomxR"
      }
    },
    {
      "cell_type": "code",
      "source": [
        "celsius = 7900\n",
        "prediccion= modelo.predict([[celsius]])\n",
        "print(f\"{celsius} °C  son {prediccion} °F \")"
      ],
      "metadata": {
        "colab": {
          "base_uri": "https://localhost:8080/"
        },
        "id": "LF543D5Oor9s",
        "outputId": "ed15d94e-68b8-4f86-8f2c-52ffc976a364"
      },
      "execution_count": 84,
      "outputs": [
        {
          "output_type": "stream",
          "name": "stdout",
          "text": [
            "7900 °C  son [[14252.]] °F \n"
          ]
        }
      ]
    },
    {
      "cell_type": "markdown",
      "source": [
        "El doble corchete rectangular es inevitable en el funcipn _.predict"
      ],
      "metadata": {
        "id": "_Vf9rmKAqKjd"
      }
    },
    {
      "cell_type": "markdown",
      "source": [
        "para hacer una evaluacion de 0 a 1 para ver que tan bien enrenado qudo , rar vez 1.o en modelos reales debido a los niveles de erros esperados en sistemas reales no lineales"
      ],
      "metadata": {
        "id": "hVp6t2aHqTco"
      }
    },
    {
      "cell_type": "code",
      "source": [
        "modelo.score(X_procesada, y_procesada)"
      ],
      "metadata": {
        "colab": {
          "base_uri": "https://localhost:8080/"
        },
        "id": "FIZoxhhAov1W",
        "outputId": "fbc68710-2852-4c3e-8275-6cab3fdc2c7c"
      },
      "execution_count": 85,
      "outputs": [
        {
          "output_type": "execute_result",
          "data": {
            "text/plain": [
              "1.0"
            ]
          },
          "metadata": {},
          "execution_count": 85
        }
      ]
    }
  ]
}